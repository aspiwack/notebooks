{
 "cells": [
  {
   "cell_type": "markdown",
   "metadata": {},
   "source": [
    "## Bewildering Grace probabilities\n",
    "\n",
    "The Bewildering Grace calculations are based on [this spreadsheet](https://docs.google.com/spreadsheets/d/1IUiYWOHEPQ3E4XI4VkmJCdDBs9bOPdhzLhz2vJb7620/). I've collected the values on the 2021-04-11."
   ]
  },
  {
   "cell_type": "code",
   "execution_count": 1,
   "metadata": {},
   "outputs": [],
   "source": [
    "from IPython.display import display\n",
    "def VegaLite(spec):\n",
    "    bundle = {}\n",
    "    bundle['application/vnd.vegalite.v4+json'] = spec\n",
    "    display(bundle, raw=True)"
   ]
  },
  {
   "cell_type": "markdown",
   "metadata": {},
   "source": [
    "Let us first collect the probabilities of the rolls that we want (for an invidual roll of a Bewildering Grace x4)"
   ]
  },
  {
   "cell_type": "code",
   "execution_count": 2,
   "metadata": {},
   "outputs": [],
   "source": [
    "probabilities = {\n",
    "  'jp2' : 0.04,\n",
    "  'jp5' : 0.02,\n",
    "  'jp100': 0.001,\n",
    "  'exp5': 0.02,\n",
    "  'exp100': 0.001,\n",
    "}"
   ]
  },
  {
   "cell_type": "markdown",
   "metadata": {},
   "source": [
    "My understanding is that each Bewildering Grace roll draws one of the possible result with the given probabilities. In other word, probabilities sum.\n",
    "\n",
    "Let us first compute the probability `p_one` of a desirable event on an invidual roll."
   ]
  },
  {
   "cell_type": "code",
   "execution_count": 3,
   "metadata": {},
   "outputs": [],
   "source": [
    "p_one = sum(probabilities.values())"
   ]
  },
  {
   "cell_type": "code",
   "execution_count": 4,
   "metadata": {},
   "outputs": [
    {
     "name": "stdout",
     "output_type": "stream",
     "text": [
      "8.20%\n"
     ]
    }
   ],
   "source": [
    "print('{:.2f}%'.format(p_one*100))"
   ]
  },
  {
   "cell_type": "markdown",
   "metadata": {},
   "source": [
    "Now, the probability `p` below is the probability of a desired event on a Bewildering Grace x4 attempt (that is, 4 rolls)"
   ]
  },
  {
   "cell_type": "code",
   "execution_count": 5,
   "metadata": {},
   "outputs": [],
   "source": [
    "p = 1 - (1 - p_one)**4"
   ]
  },
  {
   "cell_type": "code",
   "execution_count": 6,
   "metadata": {},
   "outputs": [
    {
     "name": "stdout",
     "output_type": "stream",
     "text": [
      "28.98%\n"
     ]
    }
   ],
   "source": [
    "print('{:.2f}%'.format(p*100))"
   ]
  },
  {
   "cell_type": "markdown",
   "metadata": {},
   "source": [
    "We can see that 20 attempts are virtually guaranteed to yield a success, so we will use 20 as a bound."
   ]
  },
  {
   "cell_type": "code",
   "execution_count": 7,
   "metadata": {},
   "outputs": [],
   "source": [
    "def attempt(n):\n",
    "  return (1-(1-p)**n)"
   ]
  },
  {
   "cell_type": "code",
   "execution_count": 8,
   "metadata": {},
   "outputs": [
    {
     "name": "stdout",
     "output_type": "stream",
     "text": [
      "99.89%\n"
     ]
    }
   ],
   "source": [
    "print('{:.2f}%'.format(attempt(20)*100))"
   ]
  },
  {
   "cell_type": "code",
   "execution_count": 9,
   "metadata": {},
   "outputs": [],
   "source": [
    "probas = [ {'attempts': n, 'probability': attempt(n)} for n in range(21)]"
   ]
  },
  {
   "cell_type": "code",
   "execution_count": 10,
   "metadata": {},
   "outputs": [
    {
     "data": {
      "application/vnd.vegalite.v4+json": {
       "$schema": "https://vega.github.io/schema/vega-lite/v4.json",
       "data": {
        "values": [
         {
          "attempts": 0,
          "probability": 0
         },
         {
          "attempts": 1,
          "probability": 0.28981625982399983
         },
         {
          "attempts": 2,
          "probability": 0.4956390551896275
         },
         {
          "attempts": 3,
          "probability": 0.6418110578158684
         },
         {
          "attempts": 4,
          "probability": 0.7456200373499884
         },
         {
          "attempts": 5,
          "probability": 0.8193434866993835
         },
         {
          "attempts": 6,
          "probability": 0.8717006816970129
         },
         {
          "attempts": 7,
          "probability": 0.9088839102655535
         },
         {
          "attempts": 8,
          "probability": 0.9352908346021787
         },
         {
          "attempts": 9,
          "probability": 0.9540446028941079
         },
         {
          "attempts": 10,
          "probability": 0.9673632242020642
         },
         {
          "attempts": 11,
          "probability": 0.9768218924965364
         },
         {
          "attempts": 12,
          "probability": 0.9835392849229888
         },
         {
          "attempts": 13,
          "probability": 0.9883098678006367
         },
         {
          "attempts": 14,
          "probability": 0.9916978581915042
         },
         {
          "attempts": 15,
          "probability": 0.994103953878971
         },
         {
          "attempts": 16,
          "probability": 0.9958127239135174
         },
         {
          "attempts": 17,
          "probability": 0.9970262646077522
         },
         {
          "attempts": 18,
          "probability": 0.9978881014768397
         },
         {
          "attempts": 19,
          "probability": 0.9985001640079499
         },
         {
          "attempts": 20,
          "probability": 0.9989348408655153
         }
        ]
       },
       "encoding": {
        "x": {
         "field": "attempts",
         "type": "quantitative"
        },
        "y": {
         "field": "probability",
         "type": "quantitative"
        }
       },
       "height": 300,
       "mark": "line",
       "padding": 5,
       "width": 600
      },
      "image/png": "[encoded data removed]"
     },
     "metadata": {},
     "output_type": "display_data"
    }
   ],
   "source": [
    "VegaLite({\n",
    "  \"$schema\": \"https://vega.github.io/schema/vega-lite/v4.json\",\n",
    "  \"width\": 600,\n",
    "  \"height\": 300,\n",
    "  \"padding\": 5,\n",
    "  \"data\": {\n",
    "    \"values\": probas\n",
    "  },\n",
    "  \"mark\": \"line\",\n",
    "  \"encoding\": {\n",
    "    \"x\": {\"field\": \"attempts\", \"type\": \"quantitative\"},\n",
    "    \"y\": {\"field\": \"probability\", \"type\": \"quantitative\"}\n",
    "  }\n",
    "})"
   ]
  },
  {
   "cell_type": "code",
   "execution_count": null,
   "metadata": {},
   "outputs": [],
   "source": []
  }
 ],
 "metadata": {
  "kernelspec": {
   "display_name": "Python3 - python",
   "language": "python",
   "name": "ipython_python"
  },
  "language_info": {
   "codemirror_mode": {
    "name": "ipython",
    "version": 3
   },
   "file_extension": ".py",
   "mimetype": "text/x-python",
   "name": "python",
   "nbconvert_exporter": "python",
   "pygments_lexer": "ipython3",
   "version": "3.8.8"
  }
 },
 "nbformat": 4,
 "nbformat_minor": 4
}
