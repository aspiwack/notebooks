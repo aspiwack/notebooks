{
 "cells": [
  {
   "cell_type": "markdown",
   "metadata": {},
   "source": [
    "## Bewildering Grace probabilities\n",
    "\n",
    "The Bewildering Grace calculations are based on [this spreadsheet](https://docs.google.com/spreadsheets/d/1IUiYWOHEPQ3E4XI4VkmJCdDBs9bOPdhzLhz2vJb7620/). I've collected the values on the 2021-04-11."
   ]
  },
  {
   "cell_type": "code",
   "execution_count": 1,
   "metadata": {},
   "outputs": [],
   "source": [
    "from IPython.display import display\n",
    "def VegaLite(spec):\n",
    "    bundle = {}\n",
    "    bundle['application/vnd.vegalite.v4+json'] = spec\n",
    "    display(bundle, raw=True)"
   ]
  },
  {
   "cell_type": "markdown",
   "metadata": {},
   "source": [
    "Let us first collect the probabilities of the rolls that we want (for an invidual roll of a Bewildering Grace x4)"
   ]
  },
  {
   "cell_type": "code",
   "execution_count": 2,
   "metadata": {},
   "outputs": [],
   "source": [
    "probabilities = {\n",
    "  'jp2' : 0.04,\n",
    "  'jp5' : 0.02,\n",
    "  'jp100': 0.001,\n",
    "  'exp5': 0.02,\n",
    "  'exp100': 0.001,\n",
    "}"
   ]
  },
  {
   "cell_type": "markdown",
   "metadata": {},
   "source": [
    "My understanding is that each Bewildering Grace roll draws one of the possible result with the given probabilities. In other word, probabilities sum.\n",
    "\n",
    "Let us first compute the probability `p_one` of a desirable event on an invidual roll."
   ]
  },
  {
   "cell_type": "code",
   "execution_count": 3,
   "metadata": {},
   "outputs": [],
   "source": [
    "p_one = sum(probabilities.values())"
   ]
  },
  {
   "cell_type": "code",
   "execution_count": 4,
   "metadata": {},
   "outputs": [
    {
     "name": "stdout",
     "output_type": "stream",
     "text": [
      "8.20%\n"
     ]
    }
   ],
   "source": [
    "print('{:.2f}%'.format(p_one*100))"
   ]
  },
  {
   "cell_type": "markdown",
   "metadata": {},
   "source": [
    "Now, the probability `p` below is the probability of a desired event on a Bewildering Grace x4 attempt (that is, 4 rolls)"
   ]
  },
  {
   "cell_type": "code",
   "execution_count": 5,
   "metadata": {},
   "outputs": [],
   "source": [
    "p = 1 - (1 - p_one)**4"
   ]
  },
  {
   "cell_type": "code",
   "execution_count": 6,
   "metadata": {},
   "outputs": [
    {
     "name": "stdout",
     "output_type": "stream",
     "text": [
      "28.98%\n"
     ]
    }
   ],
   "source": [
    "print('{:.2f}%'.format(p*100))"
   ]
  },
  {
   "cell_type": "markdown",
   "metadata": {},
   "source": [
    "We can see that 20 attempts are virtually guaranteed to yield a success, so we will use 20 as a bound."
   ]
  },
  {
   "cell_type": "code",
   "execution_count": 7,
   "metadata": {},
   "outputs": [],
   "source": [
    "def attempt(n):\n",
    "  return (1-(1-p)**n)"
   ]
  },
  {
   "cell_type": "code",
   "execution_count": 8,
   "metadata": {},
   "outputs": [
    {
     "name": "stdout",
     "output_type": "stream",
     "text": [
      "99.89%\n"
     ]
    }
   ],
   "source": [
    "print('{:.2f}%'.format(attempt(20)*100))"
   ]
  },
  {
   "cell_type": "markdown",
   "metadata": {},
   "source": [
    "Let us now do the same, but excluse JPx2, as this is a slower route"
   ]
  },
  {
   "cell_type": "code",
   "execution_count": 10,
   "metadata": {},
   "outputs": [],
   "source": [
    "probabilities_good = {\n",
    "    'jp5': probabilities['jp5'],\n",
    "    'jp100': probabilities['jp100'],\n",
    "    'exp5': probabilities['exp5'],\n",
    "    'exp100': probabilities['exp100'],\n",
    "}"
   ]
  },
  {
   "cell_type": "code",
   "execution_count": 12,
   "metadata": {},
   "outputs": [],
   "source": [
    "p_good_one = sum(probabilities_good.values())"
   ]
  },
  {
   "cell_type": "code",
   "execution_count": 13,
   "metadata": {},
   "outputs": [
    {
     "name": "stdout",
     "output_type": "stream",
     "text": [
      "4.20%\n"
     ]
    }
   ],
   "source": [
    "print('{:.2f}%'.format(p_good_one*100))"
   ]
  },
  {
   "cell_type": "code",
   "execution_count": 14,
   "metadata": {},
   "outputs": [],
   "source": [
    "p_good = 1 - (1 - p_good_one)**4"
   ]
  },
  {
   "cell_type": "code",
   "execution_count": 15,
   "metadata": {},
   "outputs": [
    {
     "name": "stdout",
     "output_type": "stream",
     "text": [
      "15.77%\n"
     ]
    }
   ],
   "source": [
    "print('{:.2f}%'.format(p_good*100))"
   ]
  },
  {
   "cell_type": "code",
   "execution_count": 17,
   "metadata": {},
   "outputs": [],
   "source": [
    "def attempt_good(n):\n",
    "  return (1-(1-p_good)**n)"
   ]
  },
  {
   "cell_type": "code",
   "execution_count": 24,
   "metadata": {},
   "outputs": [],
   "source": [
    "probas = [ {'# Attempts': n, 'Probability': attempt(n), 'Quality': 'any'} for n in range(21)]\n",
    "probas.extend([ {'# Attempts': n, 'Probability': attempt_good(n), 'Quality': 'good'} for n in range(21) ])"
   ]
  },
  {
   "cell_type": "code",
   "execution_count": 26,
   "metadata": {},
   "outputs": [
    {
     "data": {
      "application/vnd.vegalite.v4+json": {
       "$schema": "https://vega.github.io/schema/vega-lite/v4.json",
       "data": {
        "values": [
         {
          "# Attempts": 0,
          "Probability": 0,
          "Quality": "any"
         },
         {
          "# Attempts": 1,
          "Probability": 0.28981625982399983,
          "Quality": "any"
         },
         {
          "# Attempts": 2,
          "Probability": 0.4956390551896275,
          "Quality": "any"
         },
         {
          "# Attempts": 3,
          "Probability": 0.6418110578158684,
          "Quality": "any"
         },
         {
          "# Attempts": 4,
          "Probability": 0.7456200373499884,
          "Quality": "any"
         },
         {
          "# Attempts": 5,
          "Probability": 0.8193434866993835,
          "Quality": "any"
         },
         {
          "# Attempts": 6,
          "Probability": 0.8717006816970129,
          "Quality": "any"
         },
         {
          "# Attempts": 7,
          "Probability": 0.9088839102655535,
          "Quality": "any"
         },
         {
          "# Attempts": 8,
          "Probability": 0.9352908346021787,
          "Quality": "any"
         },
         {
          "# Attempts": 9,
          "Probability": 0.9540446028941079,
          "Quality": "any"
         },
         {
          "# Attempts": 10,
          "Probability": 0.9673632242020642,
          "Quality": "any"
         },
         {
          "# Attempts": 11,
          "Probability": 0.9768218924965364,
          "Quality": "any"
         },
         {
          "# Attempts": 12,
          "Probability": 0.9835392849229888,
          "Quality": "any"
         },
         {
          "# Attempts": 13,
          "Probability": 0.9883098678006367,
          "Quality": "any"
         },
         {
          "# Attempts": 14,
          "Probability": 0.9916978581915042,
          "Quality": "any"
         },
         {
          "# Attempts": 15,
          "Probability": 0.994103953878971,
          "Quality": "any"
         },
         {
          "# Attempts": 16,
          "Probability": 0.9958127239135174,
          "Quality": "any"
         },
         {
          "# Attempts": 17,
          "Probability": 0.9970262646077522,
          "Quality": "any"
         },
         {
          "# Attempts": 18,
          "Probability": 0.9978881014768397,
          "Quality": "any"
         },
         {
          "# Attempts": 19,
          "Probability": 0.9985001640079499,
          "Quality": "any"
         },
         {
          "# Attempts": 20,
          "Probability": 0.9989348408655153,
          "Quality": "any"
         },
         {
          "# Attempts": 0,
          "Probability": 0,
          "Quality": "good"
         },
         {
          "# Attempts": 1,
          "Probability": 0.15770924030400013,
          "Quality": "good"
         },
         {
          "# Attempts": 2,
          "Probability": 0.29054627613073536,
          "Quality": "good"
         },
         {
          "# Attempts": 3,
          "Probability": 0.40243368395300105,
          "Quality": "good"
         },
         {
          "# Attempts": 4,
          "Probability": 0.49667541368803325,
          "Quality": "good"
         },
         {
          "# Attempts": 5,
          "Probability": 0.5760543518216187,
          "Quality": "good"
         },
         {
          "# Attempts": 6,
          "Probability": 0.6429144979260182,
          "Quality": "good"
         },
         {
          "# Attempts": 7,
          "Probability": 0.6992301811816782,
          "Quality": "good"
         },
         {
          "# Attempts": 8,
          "Probability": 0.7466643608138875,
          "Quality": "good"
         },
         {
          "# Attempts": 9,
          "Probability": 0.7866177320118576,
          "Quality": "good"
         },
         {
          "# Attempts": 10,
          "Probability": 0.8202700873906121,
          "Quality": "good"
         },
         {
          "# Attempts": 11,
          "Probability": 0.848615155368143,
          "Quality": "good"
         },
         {
          "# Attempts": 12,
          "Probability": 0.8724899442085723,
          "Quality": "good"
         },
         {
          "# Attempts": 13,
          "Probability": 0.892599458238559,
          "Quality": "good"
         },
         {
          "# Attempts": 14,
          "Probability": 0.9095375160879939,
          "Quality": "good"
         },
         {
          "# Attempts": 15,
          "Probability": 0.9238042857017692,
          "Quality": "good"
         },
         {
          "# Attempts": 16,
          "Probability": 0.9358210539181638,
          "Quality": "good"
         },
         {
          "# Attempts": 17,
          "Probability": 0.9459426667482416,
          "Quality": "good"
         },
         {
          "# Attempts": 18,
          "Probability": 0.9544680077082366,
          "Quality": "good"
         },
         {
          "# Attempts": 19,
          "Probability": 0.9616488236220981,
          "Quality": "good"
         },
         {
          "# Attempts": 20,
          "Probability": 0.9676971585134218,
          "Quality": "good"
         }
        ]
       },
       "encoding": {
        "color": {
         "field": "Quality"
        },
        "x": {
         "field": "# Attempts",
         "type": "quantitative"
        },
        "y": {
         "field": "Probability",
         "type": "quantitative"
        }
       },
       "height": 300,
       "mark": "area",
       "padding": 5,
       "width": 600
      },
      "image/png": "[encoded data removed]"
     },
     "metadata": {},
     "output_type": "display_data"
    }
   ],
   "source": [
    "VegaLite({\n",
    "  \"$schema\": \"https://vega.github.io/schema/vega-lite/v4.json\",\n",
    "  \"width\": 600,\n",
    "  \"height\": 300,\n",
    "  \"padding\": 5,\n",
    "  \"data\": {\n",
    "    \"values\": probas\n",
    "  },\n",
    "  \"mark\": \"area\",\n",
    "  \"encoding\": {\n",
    "    \"x\": {\"field\": \"# Attempts\", \"type\": \"quantitative\"},\n",
    "    \"y\": {\"field\": \"Probability\", \"type\": \"quantitative\"},\n",
    "    \"color\": {\"field\": 'Quality'},\n",
    "  }\n",
    "})"
   ]
  },
  {
   "cell_type": "code",
   "execution_count": null,
   "metadata": {},
   "outputs": [],
   "source": []
  }
 ],
 "metadata": {
  "kernelspec": {
   "display_name": "Python3 - python",
   "language": "python",
   "name": "ipython_python"
  },
  "language_info": {
   "codemirror_mode": {
    "name": "ipython",
    "version": 3
   },
   "file_extension": ".py",
   "mimetype": "text/x-python",
   "name": "python",
   "nbconvert_exporter": "python",
   "pygments_lexer": "ipython3",
   "version": "3.8.8"
  }
 },
 "nbformat": 4,
 "nbformat_minor": 4
}
