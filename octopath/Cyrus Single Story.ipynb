{
 "cells": [
  {
   "cell_type": "markdown",
   "metadata": {},
   "source": [
    "## Bewildering Grace probabilities\n",
    "\n",
    "The Bewildering Grace calculations are based on [this spreadsheet](https://docs.google.com/spreadsheets/d/1IUiYWOHEPQ3E4XI4VkmJCdDBs9bOPdhzLhz2vJb7620/). I've collected the values on the 2021-04-11."
   ]
  },
  {
   "cell_type": "code",
   "execution_count": 1,
   "metadata": {},
   "outputs": [],
   "source": [
    "from IPython.display import display\n",
    "def VegaLite(spec):\n",
    "    bundle = {}\n",
    "    bundle['application/vnd.vegalite.v4+json'] = spec\n",
    "    display(bundle, raw=True)"
   ]
  },
  {
   "cell_type": "markdown",
   "metadata": {},
   "source": [
    "Let us first collect the probabilities of the rolls that we want (for an invidual roll of a Bewildering Grace x4)"
   ]
  },
  {
   "cell_type": "code",
   "execution_count": 44,
   "metadata": {},
   "outputs": [],
   "source": [
    "probabilities = {\n",
    "  'jp2': 0.04,\n",
    "  'jp5': 0.02,\n",
    "  'jp100': 0.001,\n",
    "  'exp5': 0.02,\n",
    "  'exp100': 0.001,\n",
    "}"
   ]
  },
  {
   "cell_type": "markdown",
   "metadata": {},
   "source": [
    "Ordered from most desirable to less so"
   ]
  },
  {
   "cell_type": "code",
   "execution_count": 45,
   "metadata": {},
   "outputs": [],
   "source": [
    "route_spec = [\n",
    "    ('good',['exp100','jp100','jp5','exp5']),\n",
    "    ('any', ['jp2'])]"
   ]
  },
  {
   "cell_type": "code",
   "execution_count": 106,
   "metadata": {},
   "outputs": [],
   "source": [
    "routes = [ route for route,result in route_spec]"
   ]
  },
  {
   "cell_type": "code",
   "execution_count": 107,
   "metadata": {},
   "outputs": [
    {
     "name": "stdout",
     "output_type": "stream",
     "text": [
      "['good', 'any']\n"
     ]
    }
   ],
   "source": [
    "print(routes)"
   ]
  },
  {
   "cell_type": "code",
   "execution_count": 59,
   "metadata": {},
   "outputs": [],
   "source": [
    "from itertools import accumulate\n",
    "def join(prev, cur):\n",
    "    return (cur[0], prev[1]+cur[1])\n",
    "result_types = dict(accumulate(route_spec,join))"
   ]
  },
  {
   "cell_type": "code",
   "execution_count": 60,
   "metadata": {},
   "outputs": [
    {
     "name": "stdout",
     "output_type": "stream",
     "text": [
      "{'good': ['exp100', 'jp100', 'jp5', 'exp5'], 'any': ['exp100', 'jp100', 'jp5', 'exp5', 'jp2']}\n"
     ]
    }
   ],
   "source": [
    "print(result_types)"
   ]
  },
  {
   "cell_type": "code",
   "execution_count": 61,
   "metadata": {},
   "outputs": [],
   "source": [
    "def subdict (keys):\n",
    "    dict = {}\n",
    "    for k in keys:\n",
    "        dict[k] = probabilities[k]\n",
    "    return dict"
   ]
  },
  {
   "cell_type": "code",
   "execution_count": 63,
   "metadata": {},
   "outputs": [
    {
     "name": "stdout",
     "output_type": "stream",
     "text": [
      "{'exp100': 0.001, 'jp100': 0.001, 'jp5': 0.02, 'exp5': 0.02}\n",
      "{'exp100': 0.001, 'jp100': 0.001, 'jp5': 0.02, 'exp5': 0.02, 'jp2': 0.04}\n"
     ]
    }
   ],
   "source": [
    "print(subdict(result_types['good']))\n",
    "print(subdict(result_types['any']))"
   ]
  },
  {
   "cell_type": "code",
   "execution_count": 64,
   "metadata": {},
   "outputs": [],
   "source": [
    "classified_probabilities = dict([(route, subdict(entries)) for route,entries in result_types.items()])"
   ]
  },
  {
   "cell_type": "code",
   "execution_count": 65,
   "metadata": {},
   "outputs": [
    {
     "name": "stdout",
     "output_type": "stream",
     "text": [
      "{'good': {'exp100': 0.001, 'jp100': 0.001, 'jp5': 0.02, 'exp5': 0.02}, 'any': {'exp100': 0.001, 'jp100': 0.001, 'jp5': 0.02, 'exp5': 0.02, 'jp2': 0.04}}\n"
     ]
    }
   ],
   "source": [
    "print(classified_probabilities)"
   ]
  },
  {
   "cell_type": "code",
   "execution_count": 72,
   "metadata": {},
   "outputs": [],
   "source": [
    "route_one_roll_probabilities = { route: sum(results.values()) for route,results in classified_probabilities.items() }"
   ]
  },
  {
   "cell_type": "code",
   "execution_count": 73,
   "metadata": {},
   "outputs": [
    {
     "name": "stdout",
     "output_type": "stream",
     "text": [
      "{'good': 0.041999999999999996, 'any': 0.08199999999999999}\n"
     ]
    }
   ],
   "source": [
    "print(route_one_roll_probabilities)"
   ]
  },
  {
   "cell_type": "code",
   "execution_count": 71,
   "metadata": {},
   "outputs": [],
   "source": [
    "def attempts(p, n):\n",
    "  return (1-(1-p)**n)"
   ]
  },
  {
   "cell_type": "code",
   "execution_count": 75,
   "metadata": {},
   "outputs": [],
   "source": [
    "route_probabilities = { route: attempts(p, 4) for route,p in route_one_roll_probabilities.items() }"
   ]
  },
  {
   "cell_type": "code",
   "execution_count": 76,
   "metadata": {},
   "outputs": [
    {
     "name": "stdout",
     "output_type": "stream",
     "text": [
      "{'good': 0.15770924030400013, 'any': 0.28981625982399983}\n"
     ]
    }
   ],
   "source": [
    "print(route_probabilities)"
   ]
  },
  {
   "cell_type": "code",
   "execution_count": 89,
   "metadata": {},
   "outputs": [],
   "source": [
    "def gen():\n",
    "    for n in range(21):\n",
    "        for route, p in route_probabilities.items():\n",
    "            yield { '# Attempts': n, 'Probability': attempts(p,n), 'Route': route }\n",
    "data = list(gen())"
   ]
  },
  {
   "cell_type": "code",
   "execution_count": 109,
   "metadata": {},
   "outputs": [
    {
     "data": {
      "application/vnd.vegalite.v4+json": {
       "$schema": "https://vega.github.io/schema/vega-lite/v4.json",
       "data": {
        "values": [
         {
          "# Attempts": 0,
          "Probability": 0,
          "Route": "good"
         },
         {
          "# Attempts": 0,
          "Probability": 0,
          "Route": "any"
         },
         {
          "# Attempts": 1,
          "Probability": 0.15770924030400013,
          "Route": "good"
         },
         {
          "# Attempts": 1,
          "Probability": 0.28981625982399983,
          "Route": "any"
         },
         {
          "# Attempts": 2,
          "Probability": 0.29054627613073536,
          "Route": "good"
         },
         {
          "# Attempts": 2,
          "Probability": 0.4956390551896275,
          "Route": "any"
         },
         {
          "# Attempts": 3,
          "Probability": 0.40243368395300105,
          "Route": "good"
         },
         {
          "# Attempts": 3,
          "Probability": 0.6418110578158684,
          "Route": "any"
         },
         {
          "# Attempts": 4,
          "Probability": 0.49667541368803325,
          "Route": "good"
         },
         {
          "# Attempts": 4,
          "Probability": 0.7456200373499884,
          "Route": "any"
         },
         {
          "# Attempts": 5,
          "Probability": 0.5760543518216187,
          "Route": "good"
         },
         {
          "# Attempts": 5,
          "Probability": 0.8193434866993835,
          "Route": "any"
         },
         {
          "# Attempts": 6,
          "Probability": 0.6429144979260182,
          "Route": "good"
         },
         {
          "# Attempts": 6,
          "Probability": 0.8717006816970129,
          "Route": "any"
         },
         {
          "# Attempts": 7,
          "Probability": 0.6992301811816782,
          "Route": "good"
         },
         {
          "# Attempts": 7,
          "Probability": 0.9088839102655535,
          "Route": "any"
         },
         {
          "# Attempts": 8,
          "Probability": 0.7466643608138875,
          "Route": "good"
         },
         {
          "# Attempts": 8,
          "Probability": 0.9352908346021787,
          "Route": "any"
         },
         {
          "# Attempts": 9,
          "Probability": 0.7866177320118576,
          "Route": "good"
         },
         {
          "# Attempts": 9,
          "Probability": 0.9540446028941079,
          "Route": "any"
         },
         {
          "# Attempts": 10,
          "Probability": 0.8202700873906121,
          "Route": "good"
         },
         {
          "# Attempts": 10,
          "Probability": 0.9673632242020642,
          "Route": "any"
         },
         {
          "# Attempts": 11,
          "Probability": 0.848615155368143,
          "Route": "good"
         },
         {
          "# Attempts": 11,
          "Probability": 0.9768218924965364,
          "Route": "any"
         },
         {
          "# Attempts": 12,
          "Probability": 0.8724899442085723,
          "Route": "good"
         },
         {
          "# Attempts": 12,
          "Probability": 0.9835392849229888,
          "Route": "any"
         },
         {
          "# Attempts": 13,
          "Probability": 0.892599458238559,
          "Route": "good"
         },
         {
          "# Attempts": 13,
          "Probability": 0.9883098678006367,
          "Route": "any"
         },
         {
          "# Attempts": 14,
          "Probability": 0.9095375160879939,
          "Route": "good"
         },
         {
          "# Attempts": 14,
          "Probability": 0.9916978581915042,
          "Route": "any"
         },
         {
          "# Attempts": 15,
          "Probability": 0.9238042857017692,
          "Route": "good"
         },
         {
          "# Attempts": 15,
          "Probability": 0.994103953878971,
          "Route": "any"
         },
         {
          "# Attempts": 16,
          "Probability": 0.9358210539181638,
          "Route": "good"
         },
         {
          "# Attempts": 16,
          "Probability": 0.9958127239135174,
          "Route": "any"
         },
         {
          "# Attempts": 17,
          "Probability": 0.9459426667482416,
          "Route": "good"
         },
         {
          "# Attempts": 17,
          "Probability": 0.9970262646077522,
          "Route": "any"
         },
         {
          "# Attempts": 18,
          "Probability": 0.9544680077082366,
          "Route": "good"
         },
         {
          "# Attempts": 18,
          "Probability": 0.9978881014768397,
          "Route": "any"
         },
         {
          "# Attempts": 19,
          "Probability": 0.9616488236220981,
          "Route": "good"
         },
         {
          "# Attempts": 19,
          "Probability": 0.9985001640079499,
          "Route": "any"
         },
         {
          "# Attempts": 20,
          "Probability": 0.9676971585134218,
          "Route": "good"
         },
         {
          "# Attempts": 20,
          "Probability": 0.9989348408655153,
          "Route": "any"
         }
        ]
       },
       "encoding": {
        "color": {
         "field": "Route",
         "scale": {
          "scheme": "accent"
         },
         "sort": [
          "any",
          "good"
         ]
        },
        "x": {
         "field": "# Attempts",
         "type": "quantitative"
        },
        "y": {
         "field": "Probability",
         "type": "quantitative"
        }
       },
       "height": 300,
       "mark": "line",
       "padding": 5,
       "width": 600
      },
      "image/png": "[encoded data removed]"
     },
     "metadata": {},
     "output_type": "display_data"
    }
   ],
   "source": [
    "VegaLite({\n",
    "  \"$schema\": \"https://vega.github.io/schema/vega-lite/v4.json\",\n",
    "  \"width\": 600,\n",
    "  \"height\": 300,\n",
    "  \"padding\": 5,\n",
    "  \"data\": {\n",
    "    \"values\": data\n",
    "  },\n",
    "  \"mark\": \"line\",\n",
    "  \"encoding\": {\n",
    "    \"x\": {\"field\": \"# Attempts\", \"type\": \"quantitative\"},\n",
    "    \"y\": {\"field\": \"Probability\", \"type\": \"quantitative\"},\n",
    "    \"color\": {\"field\": 'Route', \"sort\": reversed(routes), \"scale\": {\"scheme\": \"accent\"}},\n",
    "  }\n",
    "})"
   ]
  },
  {
   "cell_type": "markdown",
   "metadata": {},
   "source": [
    "----\n",
    "\n",
    "Below is stuff that I need to reintegrate in the text"
   ]
  },
  {
   "cell_type": "code",
   "execution_count": 3,
   "metadata": {},
   "outputs": [],
   "source": [
    "p_one = sum(probabilities.values())"
   ]
  },
  {
   "cell_type": "code",
   "execution_count": 4,
   "metadata": {},
   "outputs": [
    {
     "name": "stdout",
     "output_type": "stream",
     "text": [
      "8.20%\n"
     ]
    }
   ],
   "source": [
    "print('{:.2f}%'.format(p_one*100))"
   ]
  },
  {
   "cell_type": "markdown",
   "metadata": {},
   "source": [
    "Now, the probability `p` below is the probability of a desired event on a Bewildering Grace x4 attempt (that is, 4 rolls)"
   ]
  },
  {
   "cell_type": "code",
   "execution_count": 5,
   "metadata": {},
   "outputs": [],
   "source": [
    "p = 1 - (1 - p_one)**4"
   ]
  },
  {
   "cell_type": "code",
   "execution_count": 6,
   "metadata": {},
   "outputs": [
    {
     "name": "stdout",
     "output_type": "stream",
     "text": [
      "28.98%\n"
     ]
    }
   ],
   "source": [
    "print('{:.2f}%'.format(p*100))"
   ]
  },
  {
   "cell_type": "markdown",
   "metadata": {},
   "source": [
    "We can see that 20 attempts are virtually guaranteed to yield a success, so we will use 20 as a bound."
   ]
  },
  {
   "cell_type": "code",
   "execution_count": 8,
   "metadata": {},
   "outputs": [
    {
     "name": "stdout",
     "output_type": "stream",
     "text": [
      "99.89%\n"
     ]
    }
   ],
   "source": [
    "print('{:.2f}%'.format(attempt(20)*100))"
   ]
  },
  {
   "cell_type": "markdown",
   "metadata": {},
   "source": [
    "Let us now do the same, but excluse JPx2, as this is a slower route"
   ]
  },
  {
   "cell_type": "code",
   "execution_count": null,
   "metadata": {},
   "outputs": [],
   "source": []
  }
 ],
 "metadata": {
  "kernelspec": {
   "display_name": "Python3 - python",
   "language": "python",
   "name": "ipython_python"
  },
  "language_info": {
   "codemirror_mode": {
    "name": "ipython",
    "version": 3
   },
   "file_extension": ".py",
   "mimetype": "text/x-python",
   "name": "python",
   "nbconvert_exporter": "python",
   "pygments_lexer": "ipython3",
   "version": "3.8.8"
  }
 },
 "nbformat": 4,
 "nbformat_minor": 4
}
