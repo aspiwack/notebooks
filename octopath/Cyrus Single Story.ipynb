{
 "cells": [
  {
   "cell_type": "markdown",
   "metadata": {},
   "source": [
    "# Bewildering Grace probabilities\n",
    "\n",
    "These are notes on the Cyrus Single Story speedrunning route for Octopath Traveler. See, for instance, [these notes from Sanjan](https://docs.google.com/document/d/1hQGU34bZc2Lz_XPg6kNDXp6AnePY2WiE9CM27AG1DmU/edit#heading=h.fvg86xaqdgkz).\n",
    "\n",
    "## Preliminaries\n",
    "\n",
    "This section contains technical material necessary for running the notebook. It is irrelevant to the calculation themselves."
   ]
  },
  {
   "cell_type": "code",
   "execution_count": 127,
   "metadata": {},
   "outputs": [],
   "source": [
    "from IPython.display import display, Markdown\n",
    "\n",
    "def VegaLite(spec):\n",
    "    bundle = {}\n",
    "    bundle['application/vnd.vegalite.v4+json'] = spec\n",
    "    display(bundle, raw=True)"
   ]
  },
  {
   "cell_type": "markdown",
   "metadata": {},
   "source": [
    "The following helper function prints a dictionary of priorities as percentages"
   ]
  },
  {
   "cell_type": "code",
   "execution_count": 136,
   "metadata": {},
   "outputs": [],
   "source": [
    "def PrintProbas(dict):\n",
    "    out = ''\n",
    "    for key, p in dict.items():\n",
    "        out += '- **{:s}**: {:.2f}%\\n'.format(key,p*100)\n",
    "    display(Markdown(out))"
   ]
  },
  {
   "cell_type": "markdown",
   "metadata": {},
   "source": [
    "## Parameters\n",
    "\n",
    "In this section, I configure the problem.\n",
    "\n",
    "### Probabilities\n",
    "\n",
    "Let me first collect the probabilities of the rolls that we are interested in (for an invidual roll of a Bewildering Grace x4). These values are taken from [this spreadsheet](https://docs.google.com/spreadsheets/d/1IUiYWOHEPQ3E4XI4VkmJCdDBs9bOPdhzLhz2vJb7620/). I've collected the values on the 2021-04-11.\n",
    "\n",
    "Any other result we see as a failure. These are non-overlapping events of a single roll, that is we can sum probabilities to get the probability of the disjunction."
   ]
  },
  {
   "cell_type": "code",
   "execution_count": 44,
   "metadata": {},
   "outputs": [],
   "source": [
    "probabilities = {\n",
    "  'jp2': 0.04,\n",
    "  'jp5': 0.02,\n",
    "  'jp100': 0.001,\n",
    "  'exp5': 0.02,\n",
    "  'exp100': 0.001,\n",
    "}"
   ]
  },
  {
   "cell_type": "markdown",
   "metadata": {},
   "source": [
    "### Routes\n",
    "\n",
    "My second parameter is to classify the various rolls into their respective routes, and order the routes. In `route_spec` below, the first route is the preferred route, the last one is the least desired one."
   ]
  },
  {
   "cell_type": "code",
   "execution_count": 110,
   "metadata": {},
   "outputs": [],
   "source": [
    "route_spec = [\n",
    "    ('Exp x100', ['exp100']),\n",
    "    ('JP x5/JP x100', ['jp100','jp5']),\n",
    "    ('Exp x5', ['exp5']),\n",
    "    ('JP x2', ['jp2']),\n",
    "]"
   ]
  },
  {
   "cell_type": "markdown",
   "metadata": {},
   "source": [
    " The definition of `route_spec` is a bit idiosyncratic, but from `route_spec`, I can derive two values:\n",
    "\n",
    "- `routes`: the list of all the routes, ordered by desirability. It is used in the graph generation below to order the legend for the colours. It's purely cosmetic, but eases reading\n",
    "- `result_types`: a dictionary mapping routes $r$ to rolls which allow a route _at least as good_ as $r$\n",
    "\n",
    "These are the parameters used in the rest of the exploration: they are idiomatic Python values. But it's much more convenient to derive them from a single `route_spec`."
   ]
  },
  {
   "cell_type": "code",
   "execution_count": 111,
   "metadata": {},
   "outputs": [],
   "source": [
    "routes = [ route for route,result in route_spec]"
   ]
  },
  {
   "cell_type": "code",
   "execution_count": 133,
   "metadata": {},
   "outputs": [
    {
     "data": {
      "text/plain": [
       "['Exp x100', 'JP x5/JP x100', 'Exp x5', 'JP x2']"
      ]
     },
     "metadata": {},
     "output_type": "display_data"
    }
   ],
   "source": [
    "display(routes)"
   ]
  },
  {
   "cell_type": "code",
   "execution_count": 113,
   "metadata": {},
   "outputs": [],
   "source": [
    "from itertools import accumulate\n",
    "def join(prev, cur):\n",
    "    return (cur[0], prev[1]+cur[1])\n",
    "result_types = dict(accumulate(route_spec,join))"
   ]
  },
  {
   "cell_type": "code",
   "execution_count": 134,
   "metadata": {},
   "outputs": [
    {
     "data": {
      "text/plain": [
       "{'Exp x100': ['exp100'],\n",
       " 'JP x5/JP x100': ['exp100', 'jp100', 'jp5'],\n",
       " 'Exp x5': ['exp100', 'jp100', 'jp5', 'exp5'],\n",
       " 'JP x2': ['exp100', 'jp100', 'jp5', 'exp5', 'jp2']}"
      ]
     },
     "metadata": {},
     "output_type": "display_data"
    }
   ],
   "source": [
    "display(result_types)"
   ]
  },
  {
   "cell_type": "markdown",
   "metadata": {},
   "source": [
    "## Some calculations\n",
    "\n",
    "Now, what I'm ultimately interested in are the probabilities of the various routes. I've noted it above, but it's worth repeating: all probabilities, from now on, will be the probability of enabling a route, _or a better route_. The goal is to answer questions of the sort: how many attempts must I expect to do if I'm not taking this or that route.\n",
    "\n",
    "I should say that there is a great does of optimism in these calculations, because they don't take into account the many ways in which Bewildering Grace could prevent you from winning the Gideon fight despite rolling a good roll.\n",
    "\n",
    "Next we compute the probabilities for _an invdividual roll_ (of which there are 4 per attempted Bewildering Grace) for each of the routes. There is a bit of setup, but it is straightforward: ultimately, we just sum the corresponding probabilities."
   ]
  },
  {
   "cell_type": "code",
   "execution_count": 115,
   "metadata": {},
   "outputs": [],
   "source": [
    "def subdict (keys):\n",
    "    dict = {}\n",
    "    for k in keys:\n",
    "        dict[k] = probabilities[k]\n",
    "    return dict"
   ]
  },
  {
   "cell_type": "code",
   "execution_count": 117,
   "metadata": {},
   "outputs": [],
   "source": [
    "classified_probabilities = dict([(route, subdict(entries)) for route,entries in result_types.items()])"
   ]
  },
  {
   "cell_type": "code",
   "execution_count": 119,
   "metadata": {},
   "outputs": [],
   "source": [
    "route_one_roll_probabilities = { route: sum(results.values()) for route,results in classified_probabilities.items() }"
   ]
  },
  {
   "cell_type": "code",
   "execution_count": 137,
   "metadata": {},
   "outputs": [
    {
     "data": {
      "text/markdown": [
       "- **Exp x100**: 0.10%\n",
       "- **JP x5/JP x100**: 2.20%\n",
       "- **Exp x5**: 4.20%\n",
       "- **JP x2**: 8.20%\n"
      ],
      "text/plain": [
       "<IPython.core.display.Markdown object>"
      ]
     },
     "metadata": {},
     "output_type": "display_data"
    }
   ],
   "source": [
    "PrintProbas(route_one_roll_probabilities)"
   ]
  },
  {
   "cell_type": "markdown",
   "metadata": {},
   "source": [
    "The next step is to compute the probability for each Bewildering Grace of each route (or better) to be rolled. We do 4 rolls. The probability of at least one of these rolls succeeding is computer using the classic formula for [Bernouilli trials](https://en.wikipedia.org/wiki/Bernoulli_trial).\n",
    "\n",
    "$$\n",
    "1 - (1-p)^n\n",
    "$$\n",
    "\n",
    "Where $p$ is the probability of one roll succeeding, and $n$ is the number of rolls (here 4)\n",
    "\n",
    "I'll also use this same formula to compute the probability of $n$ attempted Bewildering Grace."
   ]
  },
  {
   "cell_type": "code",
   "execution_count": 121,
   "metadata": {},
   "outputs": [],
   "source": [
    "def attempts(p, n):\n",
    "  return (1-(1-p)**n)"
   ]
  },
  {
   "cell_type": "code",
   "execution_count": 122,
   "metadata": {},
   "outputs": [],
   "source": [
    "route_probabilities = { route: attempts(p, 4) for route,p in route_one_roll_probabilities.items() }"
   ]
  },
  {
   "cell_type": "code",
   "execution_count": 138,
   "metadata": {},
   "outputs": [
    {
     "data": {
      "text/markdown": [
       "- **Exp x100**: 0.40%\n",
       "- **JP x5/JP x100**: 8.51%\n",
       "- **Exp x5**: 15.77%\n",
       "- **JP x2**: 28.98%\n"
      ],
      "text/plain": [
       "<IPython.core.display.Markdown object>"
      ]
     },
     "metadata": {},
     "output_type": "display_data"
    }
   ],
   "source": [
    "PrintProbas(route_probabilities)"
   ]
  },
  {
   "cell_type": "markdown",
   "metadata": {},
   "source": [
    "We can see, for instance, refusing to take JPx2 because it is rather a bit slower than the other routes cuts almost by half the probability of each Bewildering Grace attempt. So we will need twice as many attempts to continue.\n",
    "\n",
    "The notes claim that the JPx2 route is 1min15 slower than the rest. I haven't timed a retry of Gideon, but if a full attempt takes about 1min, then, on average, it is indeed worth it to take a JPx2. The more optimal route, when you are grinding for a very good time, requires more luck, hence is more reset intensive."
   ]
  },
  {
   "cell_type": "markdown",
   "metadata": {},
   "source": [
    "## Drawing a graph\n",
    "\n",
    "Let me summarise the probability in the form of a graph. We can easily read, in the graph, how many attempts it take to have x% change of success (again, with the caveat that bad rolls could make you fail an attempt despite even an Exp x100 being also rolled).\n",
    "\n",
    "To draw the graph, I need to decide up to how many attempts I'm going to draw. Let us take 60 attempts as it makes the JP x5 route over 99%, we should be able to read whatever we want in the graph with this, as we can read basically the full distribution of all but the Exp x100 route. (I didn't use a formula to find it, I just eyeballed it and tried various values until it looked ok)."
   ]
  },
  {
   "cell_type": "code",
   "execution_count": 148,
   "metadata": {},
   "outputs": [
    {
     "name": "stdout",
     "output_type": "stream",
     "text": [
      "99.52%\n"
     ]
    }
   ],
   "source": [
    "max_attempts=60\n",
    "print('{:.2f}%'.format(attempts(route_probabilities['JP x5/JP x100'],max_attempts) * 100))"
   ]
  },
  {
   "cell_type": "markdown",
   "metadata": {},
   "source": [
    "Making a graph where the Exp x100 goes to close to 100% is not practical: it takes some 600 attempts for this route to be 90%! The graph would be all squeezed up and we wouldn't be able to read out anything from it. So let's forget about this idea."
   ]
  },
  {
   "cell_type": "code",
   "execution_count": 157,
   "metadata": {},
   "outputs": [
    {
     "name": "stdout",
     "output_type": "stream",
     "text": [
      "90.94%\n"
     ]
    }
   ],
   "source": [
    "print('{:.2f}%'.format(attempts(route_probabilities['Exp x100'],600) * 100))"
   ]
  },
  {
   "cell_type": "code",
   "execution_count": 158,
   "metadata": {},
   "outputs": [],
   "source": [
    "def gen():\n",
    "    for n in range(max_attempts+1):\n",
    "        for route, p in route_probabilities.items():\n",
    "            yield { '# Attempts': n, 'Probability': attempts(p,n), 'Route': route }\n",
    "data = list(gen())"
   ]
  },
  {
   "cell_type": "code",
   "execution_count": 159,
   "metadata": {},
   "outputs": [
    {
     "data": {
      "application/vnd.vegalite.v4+json": {
       "$schema": "https://vega.github.io/schema/vega-lite/v4.json",
       "data": {
        "values": [
         {
          "# Attempts": 0,
          "Probability": 0,
          "Route": "Exp x100"
         },
         {
          "# Attempts": 0,
          "Probability": 0,
          "Route": "JP x5/JP x100"
         },
         {
          "# Attempts": 0,
          "Probability": 0,
          "Route": "Exp x5"
         },
         {
          "# Attempts": 0,
          "Probability": 0,
          "Route": "JP x2"
         },
         {
          "# Attempts": 1,
          "Probability": 0.003994003998999962,
          "Route": "Exp x100"
         },
         {
          "# Attempts": 1,
          "Probability": 0.08513835774400003,
          "Route": "JP x5/JP x100"
         },
         {
          "# Attempts": 1,
          "Probability": 0.15770924030400013,
          "Route": "Exp x5"
         },
         {
          "# Attempts": 1,
          "Probability": 0.28981625982399983,
          "Route": "JP x2"
         },
         {
          "# Attempts": 2,
          "Probability": 0.007972055930055899,
          "Route": "Exp x100"
         },
         {
          "# Attempts": 2,
          "Probability": 0.16302817552865467,
          "Route": "JP x5/JP x100"
         },
         {
          "# Attempts": 2,
          "Probability": 0.29054627613073536,
          "Route": "Exp x5"
         },
         {
          "# Attempts": 2,
          "Probability": 0.4956390551896275,
          "Route": "JP x2"
         },
         {
          "# Attempts": 3,
          "Probability": 0.011934219505790988,
          "Route": "Exp x100"
         },
         {
          "# Attempts": 3,
          "Probability": 0.23428658214214448,
          "Route": "JP x5/JP x100"
         },
         {
          "# Attempts": 3,
          "Probability": 0.40243368395300105,
          "Route": "Exp x5"
         },
         {
          "# Attempts": 3,
          "Probability": 0.6418110578158684,
          "Route": "JP x2"
         },
         {
          "# Attempts": 4,
          "Probability": 0.01588055818435985,
          "Route": "Exp x100"
         },
         {
          "# Attempts": 4,
          "Probability": 0.2994781650411076,
          "Route": "JP x5/JP x100"
         },
         {
          "# Attempts": 4,
          "Probability": 0.49667541368803325,
          "Route": "Exp x5"
         },
         {
          "# Attempts": 4,
          "Probability": 0.7456200373499884,
          "Route": "JP x2"
         },
         {
          "# Attempts": 5,
          "Probability": 0.019811135170465177,
          "Route": "Exp x100"
         },
         {
          "# Attempts": 5,
          "Probability": 0.35911944363332116,
          "Route": "JP x5/JP x100"
         },
         {
          "# Attempts": 5,
          "Probability": 0.5760543518216187,
          "Route": "Exp x5"
         },
         {
          "# Attempts": 5,
          "Probability": 0.8193434866993835,
          "Route": "JP x2"
         },
         {
          "# Attempts": 6,
          "Probability": 0.023726013416369485,
          "Route": "Exp x100"
         },
         {
          "# Attempts": 6,
          "Probability": 0.41368296171244123,
          "Route": "JP x5/JP x100"
         },
         {
          "# Attempts": 6,
          "Probability": 0.6429144979260182,
          "Route": "Exp x5"
         },
         {
          "# Attempts": 6,
          "Probability": 0.8717006816970129,
          "Route": "JP x2"
         },
         {
          "# Attempts": 7,
          "Probability": 0.027625255622904188,
          "Route": "Exp x100"
         },
         {
          "# Attempts": 7,
          "Probability": 0.46360103146957,
          "Route": "JP x5/JP x100"
         },
         {
          "# Attempts": 7,
          "Probability": 0.6992301811816782,
          "Route": "Exp x5"
         },
         {
          "# Attempts": 7,
          "Probability": 0.9088839102655535,
          "Route": "JP x2"
         },
         {
          "# Attempts": 8,
          "Probability": 0.03150892424047291,
          "Route": "Exp x100"
         },
         {
          "# Attempts": 8,
          "Probability": 0.5092691587458262,
          "Route": "JP x5/JP x100"
         },
         {
          "# Attempts": 8,
          "Probability": 0.7466643608138875,
          "Route": "Exp x5"
         },
         {
          "# Attempts": 8,
          "Probability": 0.9352908346021787,
          "Route": "JP x2"
         },
         {
          "# Attempts": 9,
          "Probability": 0.03537708147005214,
          "Route": "Exp x100"
         },
         {
          "# Attempts": 9,
          "Probability": 0.5510491766645382,
          "Route": "JP x5/JP x100"
         },
         {
          "# Attempts": 9,
          "Probability": 0.7866177320118576,
          "Route": "Exp x5"
         },
         {
          "# Attempts": 9,
          "Probability": 0.9540446028941079,
          "Route": "JP x2"
         },
         {
          "# Attempts": 10,
          "Probability": 0.03922978926418785,
          "Route": "Exp x100"
         },
         {
          "# Attempts": 10,
          "Probability": 0.5892721124711362,
          "Route": "JP x5/JP x100"
         },
         {
          "# Attempts": 10,
          "Probability": 0.8202700873906121,
          "Route": "Exp x5"
         },
         {
          "# Attempts": 10,
          "Probability": 0.9673632242020642,
          "Route": "JP x2"
         },
         {
          "# Attempts": 11,
          "Probability": 0.04306710932798674,
          "Route": "Exp x100"
         },
         {
          "# Attempts": 11,
          "Probability": 0.6242408102950059,
          "Route": "JP x5/JP x100"
         },
         {
          "# Attempts": 11,
          "Probability": 0.848615155368143,
          "Route": "Exp x5"
         },
         {
          "# Attempts": 11,
          "Probability": 0.9768218924965364,
          "Route": "JP x2"
         },
         {
          "# Attempts": 12,
          "Probability": 0.0468891031201053,
          "Route": "Exp x100"
         },
         {
          "# Attempts": 12,
          "Probability": 0.6562323306137052,
          "Route": "JP x5/JP x100"
         },
         {
          "# Attempts": 12,
          "Probability": 0.8724899442085723,
          "Route": "Exp x5"
         },
         {
          "# Attempts": 12,
          "Probability": 0.9835392849229888,
          "Route": "JP x2"
         },
         {
          "# Attempts": 13,
          "Probability": 0.05069583185373405,
          "Route": "Exp x100"
         },
         {
          "# Attempts": 13,
          "Probability": 0.6855001454307368,
          "Route": "JP x5/JP x100"
         },
         {
          "# Attempts": 13,
          "Probability": 0.892599458238559,
          "Route": "Exp x5"
         },
         {
          "# Attempts": 13,
          "Probability": 0.9883098678006367,
          "Route": "JP x2"
         },
         {
          "# Attempts": 14,
          "Probability": 0.05448735649757752,
          "Route": "Exp x100"
         },
         {
          "# Attempts": 14,
          "Probability": 0.7122761465594907,
          "Route": "JP x5/JP x100"
         },
         {
          "# Attempts": 14,
          "Probability": 0.9095375160879939,
          "Route": "Exp x5"
         },
         {
          "# Attempts": 14,
          "Probability": 0.9916978581915042,
          "Route": "JP x2"
         },
         {
          "# Attempts": 15,
          "Probability": 0.05826373777683125,
          "Route": "Exp x100"
         },
         {
          "# Attempts": 15,
          "Probability": 0.736772482925191,
          "Route": "JP x5/JP x100"
         },
         {
          "# Attempts": 15,
          "Probability": 0.9238042857017692,
          "Route": "Exp x5"
         },
         {
          "# Attempts": 15,
          "Probability": 0.994103953878971,
          "Route": "JP x2"
         },
         {
          "# Attempts": 16,
          "Probability": 0.06202503617415389,
          "Route": "Exp x100"
         },
         {
          "# Attempts": 16,
          "Probability": 0.759183241441971,
          "Route": "JP x5/JP x100"
         },
         {
          "# Attempts": 16,
          "Probability": 0.9358210539181638,
          "Route": "Exp x5"
         },
         {
          "# Attempts": 16,
          "Probability": 0.9958127239135174,
          "Route": "JP x2"
         },
         {
          "# Attempts": 17,
          "Probability": 0.06577131193063612,
          "Route": "Exp x100"
         },
         {
          "# Attempts": 17,
          "Probability": 0.7796859847828349,
          "Route": "JP x5/JP x100"
         },
         {
          "# Attempts": 17,
          "Probability": 0.9459426667482416,
          "Route": "Exp x5"
         },
         {
          "# Attempts": 17,
          "Probability": 0.9970262646077522,
          "Route": "JP x2"
         },
         {
          "# Attempts": 18,
          "Probability": 0.06950262504676563,
          "Route": "Exp x100"
         },
         {
          "# Attempts": 18,
          "Probability": 0.798443158226411,
          "Route": "JP x5/JP x100"
         },
         {
          "# Attempts": 18,
          "Probability": 0.9544680077082366,
          "Route": "Exp x5"
         },
         {
          "# Attempts": 18,
          "Probability": 0.9978881014768397,
          "Route": "JP x2"
         },
         {
          "# Attempts": 19,
          "Probability": 0.07321903528338791,
          "Route": "Exp x100"
         },
         {
          "# Attempts": 19,
          "Probability": 0.8156033767270816,
          "Route": "JP x5/JP x100"
         },
         {
          "# Attempts": 19,
          "Probability": 0.9616488236220981,
          "Route": "Exp x5"
         },
         {
          "# Attempts": 19,
          "Probability": 0.9985001640079499,
          "Route": "JP x2"
         },
         {
          "# Attempts": 20,
          "Probability": 0.07692060216266305,
          "Route": "Exp x100"
         },
         {
          "# Attempts": 20,
          "Probability": 0.831302602406077,
          "Route": "JP x5/JP x100"
         },
         {
          "# Attempts": 20,
          "Probability": 0.9676971585134218,
          "Route": "Exp x5"
         },
         {
          "# Attempts": 20,
          "Probability": 0.9989348408655153,
          "Route": "JP x2"
         },
         {
          "# Attempts": 21,
          "Probability": 0.08060738496901987,
          "Route": "Exp x100"
         },
         {
          "# Attempts": 21,
          "Probability": 0.8456652217929101,
          "Route": "JP x5/JP x100"
         },
         {
          "# Attempts": 21,
          "Probability": 0.9727916151039306,
          "Route": "Exp x5"
         },
         {
          "# Attempts": 21,
          "Probability": 0.999243541301989,
          "Route": "JP x2"
         },
         {
          "# Attempts": 22,
          "Probability": 0.08427944275010457,
          "Route": "Exp x100"
         },
         {
          "# Attempts": 22,
          "Probability": 0.8588050313522463,
          "Route": "JP x5/JP x100"
         },
         {
          "# Attempts": 22,
          "Probability": 0.9770826288157886,
          "Route": "Exp x5"
         },
         {
          "# Attempts": 22,
          "Probability": 0.9994627753325579,
          "Route": "JP x2"
         },
         {
          "# Attempts": 23,
          "Probability": 0.08793683431772714,
          "Route": "Exp x100"
         },
         {
          "# Attempts": 23,
          "Probability": 0.8708261391046316,
          "Route": "JP x5/JP x100"
         },
         {
          "# Attempts": 23,
          "Probability": 0.9806969100150154,
          "Route": "Exp x5"
         },
         {
          "# Attempts": 23,
          "Probability": 0.9996184717763611,
          "Route": "JP x2"
         },
         {
          "# Attempts": 24,
          "Probability": 0.09157961824880279,
          "Route": "Exp x100"
         },
         {
          "# Attempts": 24,
          "Probability": 0.8818237894847152,
          "Route": "JP x5/JP x100"
         },
         {
          "# Attempts": 24,
          "Probability": 0.983741185672067,
          "Route": "Exp x5"
         },
         {
          "# Attempts": 24,
          "Probability": 0.9997290448591535,
          "Route": "JP x2"
         },
         {
          "# Attempts": 25,
          "Probability": 0.09520785288629008,
          "Route": "Exp x100"
         },
         {
          "# Attempts": 25,
          "Probability": 0.8918851179723958,
          "Route": "JP x5/JP x100"
         },
         {
          "# Attempts": 25,
          "Probability": 0.9863053509279691,
          "Route": "Exp x5"
         },
         {
          "# Attempts": 25,
          "Probability": 0.9998075720646536,
          "Route": "JP x2"
         },
         {
          "# Attempts": 26,
          "Probability": 0.098821596340126,
          "Route": "Exp x100"
         },
         {
          "# Attempts": 26,
          "Probability": 0.9010898414759123,
          "Route": "JP x5/JP x100"
         },
         {
          "# Attempts": 26,
          "Probability": 0.988465123629349,
          "Route": "Exp x5"
         },
         {
          "# Attempts": 26,
          "Probability": 0.9998633408091614,
          "Route": "JP x2"
         },
         {
          "# Attempts": 27,
          "Probability": 0.10242090648815594,
          "Route": "Exp x100"
         },
         {
          "# Attempts": 27,
          "Probability": 0.9095108899368518,
          "Route": "JP x5/JP x100"
         },
         {
          "# Attempts": 27,
          "Probability": 0.9902842802187649,
          "Route": "Exp x5"
         },
         {
          "# Attempts": 27,
          "Probability": 0.9999029468647208,
          "Route": "JP x2"
         },
         {
          "# Attempts": 28,
          "Probability": 0.106005840977061,
          "Route": "Exp x100"
         },
         {
          "# Attempts": 28,
          "Probability": 0.9172149841613443,
          "Route": "JP x5/JP x100"
         },
         {
          "# Attempts": 28,
          "Probability": 0.9918165390044701,
          "Route": "Exp x5"
         },
         {
          "# Attempts": 28,
          "Probability": 0.9999310744413916,
          "Route": "JP x2"
         },
         {
          "# Attempts": 29,
          "Probability": 0.10957645722328124,
          "Route": "Exp x100"
         },
         {
          "# Attempts": 29,
          "Probability": 0.9242631644556585,
          "Route": "JP x5/JP x100"
         },
         {
          "# Attempts": 29,
          "Probability": 0.9931071464211325,
          "Route": "Exp x5"
         },
         {
          "# Attempts": 29,
          "Probability": 0.9999510501889938,
          "Route": "JP x2"
         },
         {
          "# Attempts": 30,
          "Probability": 0.11313281241393514,
          "Route": "Exp x100"
         },
         {
          "# Attempts": 30,
          "Probability": 0.9307112742546312,
          "Route": "JP x5/JP x100"
         },
         {
          "# Attempts": 30,
          "Probability": 0.9941942131225824,
          "Route": "Exp x5"
         },
         {
          "# Attempts": 30,
          "Probability": 0.9999652366401387,
          "Route": "JP x2"
         },
         {
          "# Attempts": 31,
          "Probability": 0.11667496350773576,
          "Route": "Exp x100"
         },
         {
          "# Attempts": 31,
          "Probability": 0.9366104025747662,
          "Route": "JP x5/JP x100"
         },
         {
          "# Attempts": 31,
          "Probability": 0.9951098393603869,
          "Route": "Exp x5"
         },
         {
          "# Attempts": 31,
          "Probability": 0.9999753116270726,
          "Route": "JP x2"
         },
         {
          "# Attempts": 32,
          "Probability": 0.12020296723590262,
          "Route": "Exp x100"
         },
         {
          "# Attempts": 32,
          "Probability": 0.942007288797604,
          "Route": "JP x5/JP x100"
         },
         {
          "# Attempts": 32,
          "Probability": 0.9958810628798248,
          "Route": "Exp x5"
         },
         {
          "# Attempts": 32,
          "Probability": 0.9999824667189756,
          "Route": "JP x2"
         },
         {
          "# Attempts": 33,
          "Probability": 0.1237168801030708,
          "Route": "Exp x100"
         },
         {
          "# Attempts": 33,
          "Probability": 0.946944692990498,
          "Route": "JP x5/JP x100"
         },
         {
          "# Attempts": 33,
          "Probability": 0.9965306573239076,
          "Route": "Exp x5"
         },
         {
          "# Attempts": 33,
          "Probability": 0.9999875481489046,
          "Route": "JP x2"
         },
         {
          "# Attempts": 34,
          "Probability": 0.12721675838819524,
          "Route": "Exp x100"
         },
         {
          "# Attempts": 34,
          "Probability": 0.9514617346988907,
          "Route": "JP x5/JP x100"
         },
         {
          "# Attempts": 34,
          "Probability": 0.9970778047217084,
          "Route": "Exp x5"
         },
         {
          "# Attempts": 34,
          "Probability": 0.9999911568978169,
          "Route": "JP x2"
         },
         {
          "# Attempts": 35,
          "Probability": 0.130702658145453,
          "Route": "Exp x100"
         },
         {
          "# Attempts": 35,
          "Probability": 0.9555942028943698,
          "Route": "JP x5/JP x100"
         },
         {
          "# Attempts": 35,
          "Probability": 0.9975386619190677,
          "Route": "Exp x5"
         },
         {
          "# Attempts": 35,
          "Probability": 0.9999937197726169,
          "Route": "JP x2"
         },
         {
          "# Attempts": 36,
          "Probability": 0.13417463520514006,
          "Route": "Exp x100"
         },
         {
          "# Attempts": 36,
          "Probability": 0.9593748395342564,
          "Route": "JP x5/JP x100"
         },
         {
          "# Attempts": 36,
          "Probability": 0.9979268376779428,
          "Route": "Exp x5"
         },
         {
          "# Attempts": 36,
          "Probability": 0.9999955398846279,
          "Route": "JP x2"
         },
         {
          "# Attempts": 37,
          "Probability": 0.13763274517456636,
          "Route": "Exp x100"
         },
         {
          "# Attempts": 37,
          "Probability": 0.9628335989793962,
          "Route": "JP x5/JP x100"
         },
         {
          "# Attempts": 37,
          "Probability": 0.9982537945327813,
          "Route": "Exp x5"
         },
         {
          "# Attempts": 37,
          "Probability": 0.9999968324985834,
          "Route": "JP x2"
         },
         {
          "# Attempts": 38,
          "Probability": 0.14107704343894578,
          "Route": "Exp x100"
         },
         {
          "# Attempts": 38,
          "Probability": 0.9659978853255454,
          "Route": "JP x5/JP x100"
         },
         {
          "# Attempts": 38,
          "Probability": 0.998529187270431,
          "Route": "Exp x5"
         },
         {
          "# Attempts": 38,
          "Probability": 0.9999977504919969,
          "Route": "JP x2"
         },
         {
          "# Attempts": 39,
          "Probability": 0.14450758516228346,
          "Route": "Exp x100"
         },
         {
          "# Attempts": 39,
          "Probability": 0.9688927695287517,
          "Route": "JP x5/JP x100"
         },
         {
          "# Attempts": 39,
          "Probability": 0.9987611480286408,
          "Route": "Exp x5"
         },
         {
          "# Attempts": 39,
          "Probability": 0.9999984024359928,
          "Route": "JP x2"
         },
         {
          "# Attempts": 40,
          "Probability": 0.14792442528825944,
          "Route": "Exp x100"
         },
         {
          "# Attempts": 40,
          "Probability": 0.9715411880450379,
          "Route": "JP x5/JP x100"
         },
         {
          "# Attempts": 40,
          "Probability": 0.998956526431893,
          "Route": "Exp x5"
         },
         {
          "# Attempts": 40,
          "Probability": 0.9999988654360182,
          "Route": "JP x2"
         },
         {
          "# Attempts": 41,
          "Probability": 0.15132761854110832,
          "Route": "Exp x100"
         },
         {
          "# Attempts": 41,
          "Probability": 0.9739641245582287,
          "Route": "JP x5/JP x100"
         },
         {
          "# Attempts": 41,
          "Probability": 0.9991210918555965,
          "Route": "Exp x5"
         },
         {
          "# Attempts": 41,
          "Probability": 0.999999194251108,
          "Route": "JP x2"
         },
         {
          "# Attempts": 42,
          "Probability": 0.15471721942649597,
          "Route": "Exp x100"
         },
         {
          "# Attempts": 42,
          "Probability": 0.9761807762357684,
          "Route": "JP x5/JP x100"
         },
         {
          "# Attempts": 42,
          "Probability": 0.9992597037913473,
          "Route": "Exp x5"
         },
         {
          "# Attempts": 42,
          "Probability": 0.9999994277702382,
          "Route": "JP x2"
         },
         {
          "# Attempts": 43,
          "Probability": 0.15809328223239227,
          "Route": "Exp x100"
         },
         {
          "# Attempts": 43,
          "Probability": 0.9782087058297919,
          "Route": "JP x5/JP x100"
         },
         {
          "# Attempts": 43,
          "Probability": 0.9993764553440139,
          "Route": "Exp x5"
         },
         {
          "# Attempts": 43,
          "Probability": 0.9999995936117275,
          "Route": "JP x2"
         },
         {
          "# Attempts": 44,
          "Probability": 0.16145586102994114,
          "Route": "Exp x100"
         },
         {
          "# Attempts": 44,
          "Probability": 0.9800639808285598,
          "Route": "JP x5/JP x100"
         },
         {
          "# Attempts": 44,
          "Probability": 0.9994747940980051,
          "Route": "Exp x5"
         },
         {
          "# Attempts": 44,
          "Probability": 0.9999997113896567,
          "Route": "JP x2"
         },
         {
          "# Attempts": 45,
          "Probability": 0.16480500967432543,
          "Route": "Exp x100"
         },
         {
          "# Attempts": 45,
          "Probability": 0.9817613007607692,
          "Route": "JP x5/JP x100"
         },
         {
          "# Attempts": 45,
          "Probability": 0.9995576239218119,
          "Route": "Exp x5"
         },
         {
          "# Attempts": 45,
          "Probability": 0.9999997950336269,
          "Route": "JP x2"
         },
         {
          "# Attempts": 46,
          "Probability": 0.16814078180563097,
          "Route": "Exp x100"
         },
         {
          "# Attempts": 46,
          "Probability": 0.983314113661384,
          "Route": "JP x5/JP x100"
         },
         {
          "# Attempts": 46,
          "Probability": 0.9996273907170315,
          "Route": "Exp x5"
         },
         {
          "# Attempts": 46,
          "Probability": 0.9999998544362145,
          "Route": "JP x2"
         },
         {
          "# Attempts": 47,
          "Probability": 0.17146323084970427,
          "Route": "Exp x100"
         },
         {
          "# Attempts": 47,
          "Probability": 0.9847347226217569,
          "Route": "JP x5/JP x100"
         },
         {
          "# Attempts": 47,
          "Probability": 0.9996861546439787,
          "Route": "Exp x5"
         },
         {
          "# Attempts": 47,
          "Probability": 0.9999998966229664,
          "Route": "JP x2"
         },
         {
          "# Attempts": 48,
          "Probability": 0.174772410019009,
          "Route": "Exp x100"
         },
         {
          "# Attempts": 48,
          "Probability": 0.9860343832682471,
          "Route": "JP x5/JP x100"
         },
         {
          "# Attempts": 48,
          "Probability": 0.9997356509566498,
          "Route": "Exp x5"
         },
         {
          "# Attempts": 48,
          "Probability": 0.9999999265833116,
          "Route": "JP x2"
         },
         {
          "# Attempts": 49,
          "Probability": 0.17806837231347827,
          "Route": "Exp x100"
         },
         {
          "# Attempts": 49,
          "Probability": 0.9872233929416706,
          "Route": "JP x5/JP x100"
         },
         {
          "# Attempts": 49,
          "Probability": 0.9997773412434516,
          "Route": "Exp x5"
         },
         {
          "# Attempts": 49,
          "Probability": 0.9999999478606617,
          "Route": "JP x2"
         },
         {
          "# Attempts": 50,
          "Probability": 0.18135117052136274,
          "Route": "Exp x100"
         },
         {
          "# Attempts": 50,
          "Probability": 0.9883111722841572,
          "Route": "JP x5/JP x100"
         },
         {
          "# Attempts": 50,
          "Probability": 0.999812456586794,
          "Route": "Exp x5"
         },
         {
          "# Attempts": 50,
          "Probability": 0.9999999629714897,
          "Route": "JP x2"
         },
         {
          "# Attempts": 51,
          "Probability": 0.18462085722007704,
          "Route": "Exp x100"
         },
         {
          "# Attempts": 51,
          "Probability": 0.9893063398798366,
          "Route": "JP x5/JP x100"
         },
         {
          "# Attempts": 51,
          "Probability": 0.9998420339160147,
          "Route": "Exp x5"
         },
         {
          "# Attempts": 51,
          "Probability": 0.999999973702954,
          "Route": "JP x2"
         },
         {
          "# Attempts": 52,
          "Probability": 0.18787748477704125,
          "Route": "Exp x100"
         },
         {
          "# Attempts": 52,
          "Probability": 0.9902167805407398,
          "Route": "JP x5/JP x100"
         },
         {
          "# Attempts": 52,
          "Probability": 0.9998669466271138,
          "Route": "Exp x5"
         },
         {
          "# Attempts": 52,
          "Probability": 0.9999999813242656,
          "Route": "JP x2"
         },
         {
          "# Attempts": 53,
          "Probability": 0.19112110535051963,
          "Route": "Exp x100"
         },
         {
          "# Attempts": 53,
          "Probability": 0.9910497077789504,
          "Route": "JP x5/JP x100"
         },
         {
          "# Attempts": 53,
          "Probability": 0.9998879303734716,
          "Route": "Exp x5"
         },
         {
          "# Attempts": 53,
          "Probability": 0.999999986736797,
          "Route": "JP x2"
         },
         {
          "# Attempts": 54,
          "Probability": 0.1943517708904563,
          "Route": "Exp x100"
         },
         {
          "# Attempts": 54,
          "Probability": 0.9918117209599795,
          "Route": "JP x5/JP x100"
         },
         {
          "# Attempts": 54,
          "Probability": 0.9999056047891325,
          "Route": "Exp x5"
         },
         {
          "# Attempts": 54,
          "Probability": 0.9999999905806889,
          "Route": "JP x2"
         },
         {
          "# Attempts": 55,
          "Probability": 0.19756953313930703,
          "Route": "Exp x100"
         },
         {
          "# Attempts": 55,
          "Probability": 0.9925088575901965,
          "Route": "JP x5/JP x100"
         },
         {
          "# Attempts": 55,
          "Probability": 0.9999204917861267,
          "Route": "Exp x5"
         },
         {
          "# Attempts": 55,
          "Probability": 0.9999999933105584,
          "Route": "JP x2"
         },
         {
          "# Attempts": 56,
          "Probability": 0.20077444363286812,
          "Route": "Exp x100"
         },
         {
          "# Attempts": 56,
          "Probability": 0.9931466411525935,
          "Route": "JP x5/JP x100"
         },
         {
          "# Attempts": 56,
          "Probability": 0.9999330309661346,
          "Route": "Exp x5"
         },
         {
          "# Attempts": 56,
          "Probability": 0.9999999952492674,
          "Route": "JP x2"
         },
         {
          "# Attempts": 57,
          "Probability": 0.2039665537011014,
          "Route": "Exp x100"
         },
         {
          "# Attempts": 57,
          "Probability": 0.993730124869892,
          "Route": "JP x5/JP x100"
         },
         {
          "# Attempts": 57,
          "Probability": 0.9999435926015895,
          "Route": "Exp x5"
         },
         {
          "# Attempts": 57,
          "Probability": 0.999999996626107,
          "Route": "JP x2"
         },
         {
          "# Attempts": 58,
          "Probability": 0.20714591446895692,
          "Route": "Exp x100"
         },
         {
          "# Attempts": 58,
          "Probability": 0.9942639317417293,
          "Route": "JP x5/JP x100"
         },
         {
          "# Attempts": 58,
          "Probability": 0.9999524885695403,
          "Route": "Exp x5"
         },
         {
          "# Attempts": 58,
          "Probability": 0.999999997603916,
          "Route": "JP x2"
         },
         {
          "# Attempts": 59,
          "Probability": 0.2103125768571914,
          "Route": "Exp x100"
         },
         {
          "# Attempts": 59,
          "Probability": 0.994752291173146,
          "Route": "JP x5/JP x100"
         },
         {
          "# Attempts": 59,
          "Probability": 0.9999599815611439,
          "Route": "Exp x5"
         },
         {
          "# Attempts": 59,
          "Probability": 0.9999999982983401,
          "Route": "JP x2"
         },
         {
          "# Attempts": 60,
          "Probability": 0.2134665915831837,
          "Route": "Exp x100"
         },
         {
          "# Attempts": 60,
          "Probability": 0.9951990724845831,
          "Route": "JP x5/JP x100"
         },
         {
          "# Attempts": 60,
          "Probability": 0.999966292838734,
          "Route": "Exp x5"
         },
         {
          "# Attempts": 60,
          "Probability": 0.9999999987915088,
          "Route": "JP x2"
         }
        ]
       },
       "encoding": {
        "color": {
         "field": "Route",
         "scale": {
          "scheme": "dark2"
         },
         "sort": [
          "JP x2",
          "Exp x5",
          "JP x5/JP x100",
          "Exp x100"
         ]
        },
        "x": {
         "field": "# Attempts",
         "type": "quantitative"
        },
        "y": {
         "field": "Probability",
         "type": "quantitative"
        }
       },
       "height": 600,
       "mark": "line",
       "padding": 5,
       "width": 1200
      },
      "image/png": "[encoded data removed]"
     },
     "metadata": {},
     "output_type": "display_data"
    }
   ],
   "source": [
    "VegaLite({\n",
    "  \"$schema\": \"https://vega.github.io/schema/vega-lite/v4.json\",\n",
    "  \"width\": 1200,\n",
    "  \"height\": 600,\n",
    "  \"padding\": 5,\n",
    "  \"data\": {\n",
    "    \"values\": data\n",
    "  },\n",
    "  \"mark\": \"line\",\n",
    "  \"encoding\": {\n",
    "    \"x\": {\"field\": \"# Attempts\", \"type\": \"quantitative\"},\n",
    "    \"y\": {\"field\": \"Probability\", \"type\": \"quantitative\"},\n",
    "    \"color\": {\"field\": 'Route', \"sort\": reversed(routes), \"scale\": {\"scheme\": \"dark2\"}},\n",
    "  }\n",
    "})"
   ]
  }
 ],
 "metadata": {
  "kernelspec": {
   "display_name": "Python3 - python",
   "language": "python",
   "name": "ipython_python"
  },
  "language_info": {
   "codemirror_mode": {
    "name": "ipython",
    "version": 3
   },
   "file_extension": ".py",
   "mimetype": "text/x-python",
   "name": "python",
   "nbconvert_exporter": "python",
   "pygments_lexer": "ipython3",
   "version": "3.8.8"
  }
 },
 "nbformat": 4,
 "nbformat_minor": 4
}
