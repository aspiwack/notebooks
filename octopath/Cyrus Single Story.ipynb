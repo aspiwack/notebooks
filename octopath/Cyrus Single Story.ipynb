{
 "cells": [
  {
   "cell_type": "markdown",
   "metadata": {},
   "source": [
    "## Bewildering Grace probabilities\n",
    "\n",
    "The Bewildering Grace calculations are based on [this spreadsheet](https://docs.google.com/spreadsheets/d/1IUiYWOHEPQ3E4XI4VkmJCdDBs9bOPdhzLhz2vJb7620/). I've collected the values on the 2021-04-11."
   ]
  },
  {
   "cell_type": "code",
   "execution_count": 1,
   "metadata": {},
   "outputs": [],
   "source": [
    "from IPython.display import display\n",
    "def VegaLite(spec):\n",
    "    bundle = {}\n",
    "    bundle['application/vnd.vegalite.v4+json'] = spec\n",
    "    display(bundle, raw=True)"
   ]
  },
  {
   "cell_type": "markdown",
   "metadata": {},
   "source": [
    "Let us first collect the probabilities of the rolls that we want (for an invidual roll of a Bewildering Grace x4)"
   ]
  },
  {
   "cell_type": "code",
   "execution_count": 44,
   "metadata": {},
   "outputs": [],
   "source": [
    "probabilities = {\n",
    "  'jp2': 0.04,\n",
    "  'jp5': 0.02,\n",
    "  'jp100': 0.001,\n",
    "  'exp5': 0.02,\n",
    "  'exp100': 0.001,\n",
    "}"
   ]
  },
  {
   "cell_type": "markdown",
   "metadata": {},
   "source": [
    "Ordered from most desirable to less so"
   ]
  },
  {
   "cell_type": "code",
   "execution_count": 110,
   "metadata": {},
   "outputs": [],
   "source": [
    "route_spec = [\n",
    "    ('Exp x100', ['exp100']),\n",
    "    ('JP x5/JP x100', ['jp100','jp5']),\n",
    "    ('Exp x5', ['exp5']),\n",
    "    ('JP x2', ['jp2']),\n",
    "]"
   ]
  },
  {
   "cell_type": "code",
   "execution_count": 111,
   "metadata": {},
   "outputs": [],
   "source": [
    "routes = [ route for route,result in route_spec]"
   ]
  },
  {
   "cell_type": "code",
   "execution_count": 112,
   "metadata": {},
   "outputs": [
    {
     "name": "stdout",
     "output_type": "stream",
     "text": [
      "['Exp x100', 'JP x5/JP x100', 'Exp x5', 'JP x2']\n"
     ]
    }
   ],
   "source": [
    "print(routes)"
   ]
  },
  {
   "cell_type": "code",
   "execution_count": 113,
   "metadata": {},
   "outputs": [],
   "source": [
    "from itertools import accumulate\n",
    "def join(prev, cur):\n",
    "    return (cur[0], prev[1]+cur[1])\n",
    "result_types = dict(accumulate(route_spec,join))"
   ]
  },
  {
   "cell_type": "code",
   "execution_count": 114,
   "metadata": {},
   "outputs": [
    {
     "name": "stdout",
     "output_type": "stream",
     "text": [
      "{'Exp x100': ['exp100'], 'JP x5/JP x100': ['exp100', 'jp100', 'jp5'], 'Exp x5': ['exp100', 'jp100', 'jp5', 'exp5'], 'JP x2': ['exp100', 'jp100', 'jp5', 'exp5', 'jp2']}\n"
     ]
    }
   ],
   "source": [
    "print(result_types)"
   ]
  },
  {
   "cell_type": "code",
   "execution_count": 115,
   "metadata": {},
   "outputs": [],
   "source": [
    "def subdict (keys):\n",
    "    dict = {}\n",
    "    for k in keys:\n",
    "        dict[k] = probabilities[k]\n",
    "    return dict"
   ]
  },
  {
   "cell_type": "code",
   "execution_count": 116,
   "metadata": {},
   "outputs": [
    {
     "ename": "KeyError",
     "evalue": "'good'",
     "output_type": "error",
     "traceback": [
      "\u001b[0;31m---------------------------------------------------------------------------\u001b[0m",
      "\u001b[0;31mKeyError\u001b[0m                                  Traceback (most recent call last)",
      "\u001b[0;32m<ipython-input-116-153b3975980a>\u001b[0m in \u001b[0;36m<module>\u001b[0;34m\u001b[0m\n\u001b[0;32m----> 1\u001b[0;31m \u001b[0mprint\u001b[0m\u001b[0;34m(\u001b[0m\u001b[0msubdict\u001b[0m\u001b[0;34m(\u001b[0m\u001b[0mresult_types\u001b[0m\u001b[0;34m[\u001b[0m\u001b[0;34m'good'\u001b[0m\u001b[0;34m]\u001b[0m\u001b[0;34m)\u001b[0m\u001b[0;34m)\u001b[0m\u001b[0;34m\u001b[0m\u001b[0;34m\u001b[0m\u001b[0m\n\u001b[0m\u001b[1;32m      2\u001b[0m \u001b[0mprint\u001b[0m\u001b[0;34m(\u001b[0m\u001b[0msubdict\u001b[0m\u001b[0;34m(\u001b[0m\u001b[0mresult_types\u001b[0m\u001b[0;34m[\u001b[0m\u001b[0;34m'any'\u001b[0m\u001b[0;34m]\u001b[0m\u001b[0;34m)\u001b[0m\u001b[0;34m)\u001b[0m\u001b[0;34m\u001b[0m\u001b[0;34m\u001b[0m\u001b[0m\n",
      "\u001b[0;31mKeyError\u001b[0m: 'good'"
     ]
    }
   ],
   "source": [
    "print(subdict(result_types['good']))\n",
    "print(subdict(result_types['any']))"
   ]
  },
  {
   "cell_type": "code",
   "execution_count": 117,
   "metadata": {},
   "outputs": [],
   "source": [
    "classified_probabilities = dict([(route, subdict(entries)) for route,entries in result_types.items()])"
   ]
  },
  {
   "cell_type": "code",
   "execution_count": 118,
   "metadata": {},
   "outputs": [
    {
     "name": "stdout",
     "output_type": "stream",
     "text": [
      "{'Exp x100': {'exp100': 0.001}, 'JP x5/JP x100': {'exp100': 0.001, 'jp100': 0.001, 'jp5': 0.02}, 'Exp x5': {'exp100': 0.001, 'jp100': 0.001, 'jp5': 0.02, 'exp5': 0.02}, 'JP x2': {'exp100': 0.001, 'jp100': 0.001, 'jp5': 0.02, 'exp5': 0.02, 'jp2': 0.04}}\n"
     ]
    }
   ],
   "source": [
    "print(classified_probabilities)"
   ]
  },
  {
   "cell_type": "code",
   "execution_count": 119,
   "metadata": {},
   "outputs": [],
   "source": [
    "route_one_roll_probabilities = { route: sum(results.values()) for route,results in classified_probabilities.items() }"
   ]
  },
  {
   "cell_type": "code",
   "execution_count": 120,
   "metadata": {},
   "outputs": [
    {
     "name": "stdout",
     "output_type": "stream",
     "text": [
      "{'Exp x100': 0.001, 'JP x5/JP x100': 0.022, 'Exp x5': 0.041999999999999996, 'JP x2': 0.08199999999999999}\n"
     ]
    }
   ],
   "source": [
    "print(route_one_roll_probabilities)"
   ]
  },
  {
   "cell_type": "code",
   "execution_count": 121,
   "metadata": {},
   "outputs": [],
   "source": [
    "def attempts(p, n):\n",
    "  return (1-(1-p)**n)"
   ]
  },
  {
   "cell_type": "code",
   "execution_count": 122,
   "metadata": {},
   "outputs": [],
   "source": [
    "route_probabilities = { route: attempts(p, 4) for route,p in route_one_roll_probabilities.items() }"
   ]
  },
  {
   "cell_type": "code",
   "execution_count": 123,
   "metadata": {},
   "outputs": [
    {
     "name": "stdout",
     "output_type": "stream",
     "text": [
      "{'Exp x100': 0.003994003998999962, 'JP x5/JP x100': 0.08513835774400003, 'Exp x5': 0.15770924030400013, 'JP x2': 0.28981625982399983}\n"
     ]
    }
   ],
   "source": [
    "print(route_probabilities)"
   ]
  },
  {
   "cell_type": "code",
   "execution_count": 124,
   "metadata": {},
   "outputs": [],
   "source": [
    "def gen():\n",
    "    for n in range(21):\n",
    "        for route, p in route_probabilities.items():\n",
    "            yield { '# Attempts': n, 'Probability': attempts(p,n), 'Route': route }\n",
    "data = list(gen())"
   ]
  },
  {
   "cell_type": "code",
   "execution_count": 126,
   "metadata": {},
   "outputs": [
    {
     "data": {
      "application/vnd.vegalite.v4+json": {
       "$schema": "https://vega.github.io/schema/vega-lite/v4.json",
       "data": {
        "values": [
         {
          "# Attempts": 0,
          "Probability": 0,
          "Route": "Exp x100"
         },
         {
          "# Attempts": 0,
          "Probability": 0,
          "Route": "JP x5/JP x100"
         },
         {
          "# Attempts": 0,
          "Probability": 0,
          "Route": "Exp x5"
         },
         {
          "# Attempts": 0,
          "Probability": 0,
          "Route": "JP x2"
         },
         {
          "# Attempts": 1,
          "Probability": 0.003994003998999962,
          "Route": "Exp x100"
         },
         {
          "# Attempts": 1,
          "Probability": 0.08513835774400003,
          "Route": "JP x5/JP x100"
         },
         {
          "# Attempts": 1,
          "Probability": 0.15770924030400013,
          "Route": "Exp x5"
         },
         {
          "# Attempts": 1,
          "Probability": 0.28981625982399983,
          "Route": "JP x2"
         },
         {
          "# Attempts": 2,
          "Probability": 0.007972055930055899,
          "Route": "Exp x100"
         },
         {
          "# Attempts": 2,
          "Probability": 0.16302817552865467,
          "Route": "JP x5/JP x100"
         },
         {
          "# Attempts": 2,
          "Probability": 0.29054627613073536,
          "Route": "Exp x5"
         },
         {
          "# Attempts": 2,
          "Probability": 0.4956390551896275,
          "Route": "JP x2"
         },
         {
          "# Attempts": 3,
          "Probability": 0.011934219505790988,
          "Route": "Exp x100"
         },
         {
          "# Attempts": 3,
          "Probability": 0.23428658214214448,
          "Route": "JP x5/JP x100"
         },
         {
          "# Attempts": 3,
          "Probability": 0.40243368395300105,
          "Route": "Exp x5"
         },
         {
          "# Attempts": 3,
          "Probability": 0.6418110578158684,
          "Route": "JP x2"
         },
         {
          "# Attempts": 4,
          "Probability": 0.01588055818435985,
          "Route": "Exp x100"
         },
         {
          "# Attempts": 4,
          "Probability": 0.2994781650411076,
          "Route": "JP x5/JP x100"
         },
         {
          "# Attempts": 4,
          "Probability": 0.49667541368803325,
          "Route": "Exp x5"
         },
         {
          "# Attempts": 4,
          "Probability": 0.7456200373499884,
          "Route": "JP x2"
         },
         {
          "# Attempts": 5,
          "Probability": 0.019811135170465177,
          "Route": "Exp x100"
         },
         {
          "# Attempts": 5,
          "Probability": 0.35911944363332116,
          "Route": "JP x5/JP x100"
         },
         {
          "# Attempts": 5,
          "Probability": 0.5760543518216187,
          "Route": "Exp x5"
         },
         {
          "# Attempts": 5,
          "Probability": 0.8193434866993835,
          "Route": "JP x2"
         },
         {
          "# Attempts": 6,
          "Probability": 0.023726013416369485,
          "Route": "Exp x100"
         },
         {
          "# Attempts": 6,
          "Probability": 0.41368296171244123,
          "Route": "JP x5/JP x100"
         },
         {
          "# Attempts": 6,
          "Probability": 0.6429144979260182,
          "Route": "Exp x5"
         },
         {
          "# Attempts": 6,
          "Probability": 0.8717006816970129,
          "Route": "JP x2"
         },
         {
          "# Attempts": 7,
          "Probability": 0.027625255622904188,
          "Route": "Exp x100"
         },
         {
          "# Attempts": 7,
          "Probability": 0.46360103146957,
          "Route": "JP x5/JP x100"
         },
         {
          "# Attempts": 7,
          "Probability": 0.6992301811816782,
          "Route": "Exp x5"
         },
         {
          "# Attempts": 7,
          "Probability": 0.9088839102655535,
          "Route": "JP x2"
         },
         {
          "# Attempts": 8,
          "Probability": 0.03150892424047291,
          "Route": "Exp x100"
         },
         {
          "# Attempts": 8,
          "Probability": 0.5092691587458262,
          "Route": "JP x5/JP x100"
         },
         {
          "# Attempts": 8,
          "Probability": 0.7466643608138875,
          "Route": "Exp x5"
         },
         {
          "# Attempts": 8,
          "Probability": 0.9352908346021787,
          "Route": "JP x2"
         },
         {
          "# Attempts": 9,
          "Probability": 0.03537708147005214,
          "Route": "Exp x100"
         },
         {
          "# Attempts": 9,
          "Probability": 0.5510491766645382,
          "Route": "JP x5/JP x100"
         },
         {
          "# Attempts": 9,
          "Probability": 0.7866177320118576,
          "Route": "Exp x5"
         },
         {
          "# Attempts": 9,
          "Probability": 0.9540446028941079,
          "Route": "JP x2"
         },
         {
          "# Attempts": 10,
          "Probability": 0.03922978926418785,
          "Route": "Exp x100"
         },
         {
          "# Attempts": 10,
          "Probability": 0.5892721124711362,
          "Route": "JP x5/JP x100"
         },
         {
          "# Attempts": 10,
          "Probability": 0.8202700873906121,
          "Route": "Exp x5"
         },
         {
          "# Attempts": 10,
          "Probability": 0.9673632242020642,
          "Route": "JP x2"
         },
         {
          "# Attempts": 11,
          "Probability": 0.04306710932798674,
          "Route": "Exp x100"
         },
         {
          "# Attempts": 11,
          "Probability": 0.6242408102950059,
          "Route": "JP x5/JP x100"
         },
         {
          "# Attempts": 11,
          "Probability": 0.848615155368143,
          "Route": "Exp x5"
         },
         {
          "# Attempts": 11,
          "Probability": 0.9768218924965364,
          "Route": "JP x2"
         },
         {
          "# Attempts": 12,
          "Probability": 0.0468891031201053,
          "Route": "Exp x100"
         },
         {
          "# Attempts": 12,
          "Probability": 0.6562323306137052,
          "Route": "JP x5/JP x100"
         },
         {
          "# Attempts": 12,
          "Probability": 0.8724899442085723,
          "Route": "Exp x5"
         },
         {
          "# Attempts": 12,
          "Probability": 0.9835392849229888,
          "Route": "JP x2"
         },
         {
          "# Attempts": 13,
          "Probability": 0.05069583185373405,
          "Route": "Exp x100"
         },
         {
          "# Attempts": 13,
          "Probability": 0.6855001454307368,
          "Route": "JP x5/JP x100"
         },
         {
          "# Attempts": 13,
          "Probability": 0.892599458238559,
          "Route": "Exp x5"
         },
         {
          "# Attempts": 13,
          "Probability": 0.9883098678006367,
          "Route": "JP x2"
         },
         {
          "# Attempts": 14,
          "Probability": 0.05448735649757752,
          "Route": "Exp x100"
         },
         {
          "# Attempts": 14,
          "Probability": 0.7122761465594907,
          "Route": "JP x5/JP x100"
         },
         {
          "# Attempts": 14,
          "Probability": 0.9095375160879939,
          "Route": "Exp x5"
         },
         {
          "# Attempts": 14,
          "Probability": 0.9916978581915042,
          "Route": "JP x2"
         },
         {
          "# Attempts": 15,
          "Probability": 0.05826373777683125,
          "Route": "Exp x100"
         },
         {
          "# Attempts": 15,
          "Probability": 0.736772482925191,
          "Route": "JP x5/JP x100"
         },
         {
          "# Attempts": 15,
          "Probability": 0.9238042857017692,
          "Route": "Exp x5"
         },
         {
          "# Attempts": 15,
          "Probability": 0.994103953878971,
          "Route": "JP x2"
         },
         {
          "# Attempts": 16,
          "Probability": 0.06202503617415389,
          "Route": "Exp x100"
         },
         {
          "# Attempts": 16,
          "Probability": 0.759183241441971,
          "Route": "JP x5/JP x100"
         },
         {
          "# Attempts": 16,
          "Probability": 0.9358210539181638,
          "Route": "Exp x5"
         },
         {
          "# Attempts": 16,
          "Probability": 0.9958127239135174,
          "Route": "JP x2"
         },
         {
          "# Attempts": 17,
          "Probability": 0.06577131193063612,
          "Route": "Exp x100"
         },
         {
          "# Attempts": 17,
          "Probability": 0.7796859847828349,
          "Route": "JP x5/JP x100"
         },
         {
          "# Attempts": 17,
          "Probability": 0.9459426667482416,
          "Route": "Exp x5"
         },
         {
          "# Attempts": 17,
          "Probability": 0.9970262646077522,
          "Route": "JP x2"
         },
         {
          "# Attempts": 18,
          "Probability": 0.06950262504676563,
          "Route": "Exp x100"
         },
         {
          "# Attempts": 18,
          "Probability": 0.798443158226411,
          "Route": "JP x5/JP x100"
         },
         {
          "# Attempts": 18,
          "Probability": 0.9544680077082366,
          "Route": "Exp x5"
         },
         {
          "# Attempts": 18,
          "Probability": 0.9978881014768397,
          "Route": "JP x2"
         },
         {
          "# Attempts": 19,
          "Probability": 0.07321903528338791,
          "Route": "Exp x100"
         },
         {
          "# Attempts": 19,
          "Probability": 0.8156033767270816,
          "Route": "JP x5/JP x100"
         },
         {
          "# Attempts": 19,
          "Probability": 0.9616488236220981,
          "Route": "Exp x5"
         },
         {
          "# Attempts": 19,
          "Probability": 0.9985001640079499,
          "Route": "JP x2"
         },
         {
          "# Attempts": 20,
          "Probability": 0.07692060216266305,
          "Route": "Exp x100"
         },
         {
          "# Attempts": 20,
          "Probability": 0.831302602406077,
          "Route": "JP x5/JP x100"
         },
         {
          "# Attempts": 20,
          "Probability": 0.9676971585134218,
          "Route": "Exp x5"
         },
         {
          "# Attempts": 20,
          "Probability": 0.9989348408655153,
          "Route": "JP x2"
         }
        ]
       },
       "encoding": {
        "color": {
         "field": "Route",
         "scale": {
          "scheme": "dark2"
         },
         "sort": [
          "JP x2",
          "Exp x5",
          "JP x5/JP x100",
          "Exp x100"
         ]
        },
        "x": {
         "field": "# Attempts",
         "type": "quantitative"
        },
        "y": {
         "field": "Probability",
         "type": "quantitative"
        }
       },
       "height": 300,
       "mark": "line",
       "padding": 5,
       "width": 600
      },
      "image/png": "[encoded data removed]"
     },
     "metadata": {},
     "output_type": "display_data"
    }
   ],
   "source": [
    "VegaLite({\n",
    "  \"$schema\": \"https://vega.github.io/schema/vega-lite/v4.json\",\n",
    "  \"width\": 600,\n",
    "  \"height\": 300,\n",
    "  \"padding\": 5,\n",
    "  \"data\": {\n",
    "    \"values\": data\n",
    "  },\n",
    "  \"mark\": \"line\",\n",
    "  \"encoding\": {\n",
    "    \"x\": {\"field\": \"# Attempts\", \"type\": \"quantitative\"},\n",
    "    \"y\": {\"field\": \"Probability\", \"type\": \"quantitative\"},\n",
    "    \"color\": {\"field\": 'Route', \"sort\": reversed(routes), \"scale\": {\"scheme\": \"dark2\"}},\n",
    "  }\n",
    "})"
   ]
  },
  {
   "cell_type": "markdown",
   "metadata": {},
   "source": [
    "----\n",
    "\n",
    "Below is stuff that I need to reintegrate in the text"
   ]
  },
  {
   "cell_type": "code",
   "execution_count": 3,
   "metadata": {},
   "outputs": [],
   "source": [
    "p_one = sum(probabilities.values())"
   ]
  },
  {
   "cell_type": "code",
   "execution_count": 4,
   "metadata": {},
   "outputs": [
    {
     "name": "stdout",
     "output_type": "stream",
     "text": [
      "8.20%\n"
     ]
    }
   ],
   "source": [
    "print('{:.2f}%'.format(p_one*100))"
   ]
  },
  {
   "cell_type": "markdown",
   "metadata": {},
   "source": [
    "Now, the probability `p` below is the probability of a desired event on a Bewildering Grace x4 attempt (that is, 4 rolls)"
   ]
  },
  {
   "cell_type": "code",
   "execution_count": 5,
   "metadata": {},
   "outputs": [],
   "source": [
    "p = 1 - (1 - p_one)**4"
   ]
  },
  {
   "cell_type": "code",
   "execution_count": 6,
   "metadata": {},
   "outputs": [
    {
     "name": "stdout",
     "output_type": "stream",
     "text": [
      "28.98%\n"
     ]
    }
   ],
   "source": [
    "print('{:.2f}%'.format(p*100))"
   ]
  },
  {
   "cell_type": "markdown",
   "metadata": {},
   "source": [
    "We can see that 20 attempts are virtually guaranteed to yield a success, so we will use 20 as a bound."
   ]
  },
  {
   "cell_type": "code",
   "execution_count": 8,
   "metadata": {},
   "outputs": [
    {
     "name": "stdout",
     "output_type": "stream",
     "text": [
      "99.89%\n"
     ]
    }
   ],
   "source": [
    "print('{:.2f}%'.format(attempt(20)*100))"
   ]
  },
  {
   "cell_type": "markdown",
   "metadata": {},
   "source": [
    "Let us now do the same, but excluse JPx2, as this is a slower route"
   ]
  },
  {
   "cell_type": "code",
   "execution_count": null,
   "metadata": {},
   "outputs": [],
   "source": []
  }
 ],
 "metadata": {
  "kernelspec": {
   "display_name": "Python3 - python",
   "language": "python",
   "name": "ipython_python"
  },
  "language_info": {
   "codemirror_mode": {
    "name": "ipython",
    "version": 3
   },
   "file_extension": ".py",
   "mimetype": "text/x-python",
   "name": "python",
   "nbconvert_exporter": "python",
   "pygments_lexer": "ipython3",
   "version": "3.8.8"
  }
 },
 "nbformat": 4,
 "nbformat_minor": 4
}
