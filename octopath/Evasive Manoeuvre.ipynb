{
 "cells": [
  {
   "cell_type": "markdown",
   "metadata": {},
   "source": [
    "# Cait probabilities\n",
    "\n",
    "These are notes on probabilities when grinding for Evasive Manoeuvres. Comparing, in particular, Cait probabilities with Whistlewood's.\n",
    "\n",
    "## Preliminaries\n",
    "\n",
    "This section contains technical material necessary for running the notebook. It is irrelevant to the calculation themselves."
   ]
  },
  {
   "cell_type": "code",
   "execution_count": 1,
   "metadata": {},
   "outputs": [],
   "source": [
    "from IPython.display import display, Markdown\n",
    "\n",
    "def VegaLite(spec):\n",
    "    bundle = {}\n",
    "    bundle['application/vnd.vegalite.v4+json'] = spec\n",
    "    display(bundle, raw=True)"
   ]
  },
  {
   "cell_type": "markdown",
   "metadata": {},
   "source": [
    "A generic printer for probabilities."
   ]
  },
  {
   "cell_type": "code",
   "execution_count": 2,
   "metadata": {},
   "outputs": [],
   "source": [
    "def PrintDict(pr,dict):\n",
    "    out = ''\n",
    "    for key, v in dict.items():\n",
    "        out += '- **{:s}**: {:s}\\n'.format(key,pr(v))\n",
    "    display(Markdown(out))"
   ]
  },
  {
   "cell_type": "markdown",
   "metadata": {},
   "source": [
    "The following helper functions prints a probability and a dictionary of probabilities as percentages"
   ]
  },
  {
   "cell_type": "code",
   "execution_count": 3,
   "metadata": {},
   "outputs": [],
   "source": [
    "def PrintProba(p):\n",
    "    return '{:.2f}%'.format(p*100)\n",
    "def PrintProbas(dict):\n",
    "    PrintDict(PrintProba, dict)"
   ]
  },
  {
   "cell_type": "markdown",
   "metadata": {},
   "source": [
    "## Parameters\n",
    "\n",
    "In this section, I configure the problem.\n",
    "\n",
    "### Probabilities\n",
    "\n",
    "The [probability of getting a Cait](https://octopathtraveler.fandom.com/wiki/Cait) in an encounter varies depending on the area. But as far as I can tell, in the areas we are interested in, the probability is always 3%. As far as I understand, this is the probability for an encounter to have a Cait, the Cait then replaces a random ennemy in that encounter.\n",
    "\n",
    "The probabilities for Whistlewood's encounter are taken from [this wiki page](https://octopathtraveler.fandom.com/wiki/The_Whistlewood)."
   ]
  },
  {
   "cell_type": "code",
   "execution_count": 4,
   "metadata": {},
   "outputs": [],
   "source": [
    "probabilities = {\n",
    "  'cait': 0.03,\n",
    "  'bugs + froggen IV': 0.1,\n",
    "  'bugs + froggen V': 0.1,\n",
    "  '5 bugs': 0.05,\n",
    "  'howlers': 0.08,\n",
    "}"
   ]
  },
  {
   "cell_type": "markdown",
   "metadata": {},
   "source": [
    "### Routes\n",
    "\n",
    "My second parameter is to classify the various encounters into their respective routes, and order the routes. In `route_spec` below, it is assumed that each route accepts the encounters of previous routes."
   ]
  },
  {
   "cell_type": "code",
   "execution_count": 5,
   "metadata": {},
   "outputs": [],
   "source": [
    "route_spec = [\n",
    "    ('Cait', ['cait']),\n",
    "    ('Whistlewood (no lightning)', ['bugs + froggen IV', 'bugs + froggen V', '5 bugs']),\n",
    "    ('Whistlewood (with lightning)', ['howlers']),\n",
    "]"
   ]
  },
  {
   "cell_type": "markdown",
   "metadata": {},
   "source": [
    " The definition of `route_spec` is a bit idiosyncratic, but from `route_spec`, I can derive two values:\n",
    "\n",
    "- `routes`: the list of all the routes, ordered by desirability. It is used in the graph generation below to order the legend for the colours. It's purely cosmetic, but eases reading\n",
    "- `result_types`: a dictionary mapping routes $r$ to rolls which allow a route _at least as good_ as $r$\n",
    "\n",
    "These are the parameters used in the rest of the exploration: they are idiomatic Python values. But it's much more convenient to derive them from a single `route_spec`."
   ]
  },
  {
   "cell_type": "code",
   "execution_count": 6,
   "metadata": {},
   "outputs": [],
   "source": [
    "routes = [ route for route,result in route_spec]"
   ]
  },
  {
   "cell_type": "code",
   "execution_count": 7,
   "metadata": {},
   "outputs": [
    {
     "data": {
      "text/plain": [
       "['Cait', 'Whistlewood (no lightning)', 'Whistlewood (with lightning)']"
      ]
     },
     "metadata": {},
     "output_type": "display_data"
    }
   ],
   "source": [
    "display(routes)"
   ]
  },
  {
   "cell_type": "code",
   "execution_count": 8,
   "metadata": {},
   "outputs": [],
   "source": [
    "from itertools import accumulate\n",
    "def join(prev, cur):\n",
    "    return (cur[0], prev[1]+cur[1])\n",
    "result_types = dict(accumulate(route_spec,join))"
   ]
  },
  {
   "cell_type": "code",
   "execution_count": 9,
   "metadata": {},
   "outputs": [
    {
     "data": {
      "text/plain": [
       "{'Cait': ['cait'],\n",
       " 'Whistlewood (no lightning)': ['cait',\n",
       "  'bugs + froggen IV',\n",
       "  'bugs + froggen V',\n",
       "  '5 bugs'],\n",
       " 'Whistlewood (with lightning)': ['cait',\n",
       "  'bugs + froggen IV',\n",
       "  'bugs + froggen V',\n",
       "  '5 bugs',\n",
       "  'howlers']}"
      ]
     },
     "metadata": {},
     "output_type": "display_data"
    }
   ],
   "source": [
    "display(result_types)"
   ]
  },
  {
   "cell_type": "markdown",
   "metadata": {},
   "source": [
    "## Some calculations\n",
    "\n",
    "Now, what I'm ultimately interested in are the probabilities of getting a good encounter in the various routes. The goal is to answer questions of the sort: how many encounters must I expect if I go for this route.\n",
    "\n",
    "There are some limitations to the probabilities calculations. In particular, good Whistlewood encounters have 3% chance of having a Cait, these encounters are counter twice (this overestimates the probabilities by 0.75 percentage points); less significant, there is a fight that we can't beat in Whistlewood (2x Spud Bug + 1x Flatlands Froggen VI), if this encounter has a Cait then it has 2/3 chance of being unkillable (that is, unless the Froggen is replaced by the Cait), whihch overestimates the probability by 0.06 percentage point), if you have no lightning, the same issue occurs with the Howler encounter (0.24 percentage point).\n",
    "\n",
    "So the real probability for a good encounter in Whistlewood with no lighthning is 26.95%. It's close enough, though, and I had this code handy. I didn't want to input manual calculations in because they are hard to maintain.\n",
    "\n",
    "I also have no idea what the probabilities of a surprise attack is, but we should, in principle, count surprise attacks, in Whistlewood, as bad encounters, as we die before we can kill them."
   ]
  },
  {
   "cell_type": "code",
   "execution_count": 10,
   "metadata": {},
   "outputs": [],
   "source": [
    "def subdict (keys):\n",
    "    dict = {}\n",
    "    for k in keys:\n",
    "        dict[k] = probabilities[k]\n",
    "    return dict"
   ]
  },
  {
   "cell_type": "code",
   "execution_count": 11,
   "metadata": {},
   "outputs": [],
   "source": [
    "classified_probabilities = dict([(route, subdict(entries)) for route,entries in result_types.items()])"
   ]
  },
  {
   "cell_type": "code",
   "execution_count": 12,
   "metadata": {},
   "outputs": [],
   "source": [
    "route_probabilities = { route: sum(results.values()) for route,results in classified_probabilities.items() }"
   ]
  },
  {
   "cell_type": "code",
   "execution_count": 13,
   "metadata": {},
   "outputs": [
    {
     "data": {
      "text/markdown": [
       "- **Cait**: 3.00%\n",
       "- **Whistlewood (no lightning)**: 28.00%\n",
       "- **Whistlewood (with lightning)**: 36.00%\n"
      ],
      "text/plain": [
       "<IPython.core.display.Markdown object>"
      ]
     },
     "metadata": {},
     "output_type": "display_data"
    }
   ],
   "source": [
    "PrintProbas(route_probabilities)"
   ]
  },
  {
   "cell_type": "markdown",
   "metadata": {},
   "source": [
    "## Drawing a graph\n",
    "\n",
    "Let me summarise the probability in the form of a graph. We can easily read, in the graph, how many encounters it take to have x% change of success.\n",
    "\n",
    "The probability of at least one of these encounters being good is computed using the classic formula for [Bernoulli trials](https://en.wikipedia.org/wiki/Bernoulli_trial).\n",
    "\n",
    "$$\n",
    "1 - (1-p)^n\n",
    "$$\n",
    "\n",
    "Where $p$ is the probability of one roll succeeding, and $n$ is the number of encounters."
   ]
  },
  {
   "cell_type": "code",
   "execution_count": 14,
   "metadata": {},
   "outputs": [],
   "source": [
    "def attempts(p, n):\n",
    "  return (1-(1-p)**n)"
   ]
  },
  {
   "cell_type": "markdown",
   "metadata": {},
   "source": [
    "To draw the graph, I need to decide up to how many attempts I'm going to draw. I'm taking 60 because the graph becomes pretty unreadable beyond that. Despite the fact that the probability to get a Cait in 60 attempts is not even 90%."
   ]
  },
  {
   "cell_type": "code",
   "execution_count": 15,
   "metadata": {},
   "outputs": [
    {
     "name": "stdout",
     "output_type": "stream",
     "text": [
      "83.92%\n"
     ]
    }
   ],
   "source": [
    "max_attempts=60\n",
    "print(PrintProba(attempts(route_probabilities['Cait'],max_attempts)))"
   ]
  },
  {
   "cell_type": "markdown",
   "metadata": {},
   "source": [
    "In fact, we would need 100 encounters to have 95% chance of finding a Cait."
   ]
  },
  {
   "cell_type": "code",
   "execution_count": 16,
   "metadata": {},
   "outputs": [
    {
     "name": "stdout",
     "output_type": "stream",
     "text": [
      "95.24%\n"
     ]
    }
   ],
   "source": [
    "print(PrintProba(attempts(route_probabilities['Cait'],100)))"
   ]
  },
  {
   "cell_type": "code",
   "execution_count": 17,
   "metadata": {},
   "outputs": [],
   "source": [
    "def gen():\n",
    "    for n in range(max_attempts+1):\n",
    "        for route, p in route_probabilities.items():\n",
    "            yield { '# Attempts': n, 'Probability': attempts(p,n), 'Route': route }\n",
    "data = list(gen())"
   ]
  },
  {
   "cell_type": "code",
   "execution_count": 18,
   "metadata": {},
   "outputs": [
    {
     "data": {
      "application/vnd.vegalite.v4+json": {
       "$schema": "https://vega.github.io/schema/vega-lite/v4.json",
       "data": {
        "values": [
         {
          "# Attempts": 0,
          "Probability": 0,
          "Route": "Cait"
         },
         {
          "# Attempts": 0,
          "Probability": 0,
          "Route": "Whistlewood (no lightning)"
         },
         {
          "# Attempts": 0,
          "Probability": 0,
          "Route": "Whistlewood (with lightning)"
         },
         {
          "# Attempts": 1,
          "Probability": 0.030000000000000027,
          "Route": "Cait"
         },
         {
          "# Attempts": 1,
          "Probability": 0.28,
          "Route": "Whistlewood (no lightning)"
         },
         {
          "# Attempts": 1,
          "Probability": 0.3600000000000001,
          "Route": "Whistlewood (with lightning)"
         },
         {
          "# Attempts": 2,
          "Probability": 0.05910000000000004,
          "Route": "Cait"
         },
         {
          "# Attempts": 2,
          "Probability": 0.48160000000000003,
          "Route": "Whistlewood (no lightning)"
         },
         {
          "# Attempts": 2,
          "Probability": 0.5904000000000001,
          "Route": "Whistlewood (with lightning)"
         },
         {
          "# Attempts": 3,
          "Probability": 0.08732700000000004,
          "Route": "Cait"
         },
         {
          "# Attempts": 3,
          "Probability": 0.626752,
          "Route": "Whistlewood (no lightning)"
         },
         {
          "# Attempts": 3,
          "Probability": 0.7378560000000001,
          "Route": "Whistlewood (with lightning)"
         },
         {
          "# Attempts": 4,
          "Probability": 0.11470719000000007,
          "Route": "Cait"
         },
         {
          "# Attempts": 4,
          "Probability": 0.73126144,
          "Route": "Whistlewood (no lightning)"
         },
         {
          "# Attempts": 4,
          "Probability": 0.83222784,
          "Route": "Whistlewood (with lightning)"
         },
         {
          "# Attempts": 5,
          "Probability": 0.1412659743000001,
          "Route": "Cait"
         },
         {
          "# Attempts": 5,
          "Probability": 0.8065082368000001,
          "Route": "Whistlewood (no lightning)"
         },
         {
          "# Attempts": 5,
          "Probability": 0.8926258176,
          "Route": "Whistlewood (with lightning)"
         },
         {
          "# Attempts": 6,
          "Probability": 0.1670279950710002,
          "Route": "Cait"
         },
         {
          "# Attempts": 6,
          "Probability": 0.8606859304960001,
          "Route": "Whistlewood (no lightning)"
         },
         {
          "# Attempts": 6,
          "Probability": 0.931280523264,
          "Route": "Whistlewood (with lightning)"
         },
         {
          "# Attempts": 7,
          "Probability": 0.1920171552188702,
          "Route": "Cait"
         },
         {
          "# Attempts": 7,
          "Probability": 0.89969386995712,
          "Route": "Whistlewood (no lightning)"
         },
         {
          "# Attempts": 7,
          "Probability": 0.9560195348889601,
          "Route": "Whistlewood (with lightning)"
         },
         {
          "# Attempts": 8,
          "Probability": 0.2162566405623041,
          "Route": "Cait"
         },
         {
          "# Attempts": 8,
          "Probability": 0.9277795863691264,
          "Route": "Whistlewood (no lightning)"
         },
         {
          "# Attempts": 8,
          "Probability": 0.9718525023289344,
          "Route": "Whistlewood (with lightning)"
         },
         {
          "# Attempts": 9,
          "Probability": 0.23976894134543492,
          "Route": "Cait"
         },
         {
          "# Attempts": 9,
          "Probability": 0.948001302185771,
          "Route": "Whistlewood (no lightning)"
         },
         {
          "# Attempts": 9,
          "Probability": 0.9819856014905181,
          "Route": "Whistlewood (with lightning)"
         },
         {
          "# Attempts": 10,
          "Probability": 0.2625758731050719,
          "Route": "Cait"
         },
         {
          "# Attempts": 10,
          "Probability": 0.9625609375737552,
          "Route": "Whistlewood (no lightning)"
         },
         {
          "# Attempts": 10,
          "Probability": 0.9884707849539316,
          "Route": "Whistlewood (with lightning)"
         },
         {
          "# Attempts": 11,
          "Probability": 0.2846985969119198,
          "Route": "Cait"
         },
         {
          "# Attempts": 11,
          "Probability": 0.9730438750531037,
          "Route": "Whistlewood (no lightning)"
         },
         {
          "# Attempts": 11,
          "Probability": 0.9926213023705162,
          "Route": "Whistlewood (with lightning)"
         },
         {
          "# Attempts": 12,
          "Probability": 0.3061576390045623,
          "Route": "Cait"
         },
         {
          "# Attempts": 12,
          "Probability": 0.9805915900382347,
          "Route": "Whistlewood (no lightning)"
         },
         {
          "# Attempts": 12,
          "Probability": 0.9952776335171304,
          "Route": "Whistlewood (with lightning)"
         },
         {
          "# Attempts": 13,
          "Probability": 0.3269729098344254,
          "Route": "Cait"
         },
         {
          "# Attempts": 13,
          "Probability": 0.9860259448275289,
          "Route": "Whistlewood (no lightning)"
         },
         {
          "# Attempts": 13,
          "Probability": 0.9969776854509634,
          "Route": "Whistlewood (with lightning)"
         },
         {
          "# Attempts": 14,
          "Probability": 0.34716372253939265,
          "Route": "Cait"
         },
         {
          "# Attempts": 14,
          "Probability": 0.9899386802758209,
          "Route": "Whistlewood (no lightning)"
         },
         {
          "# Attempts": 14,
          "Probability": 0.9980657186886166,
          "Route": "Whistlewood (with lightning)"
         },
         {
          "# Attempts": 15,
          "Probability": 0.3667488108632109,
          "Route": "Cait"
         },
         {
          "# Attempts": 15,
          "Probability": 0.992755849798591,
          "Route": "Whistlewood (no lightning)"
         },
         {
          "# Attempts": 15,
          "Probability": 0.9987620599607147,
          "Route": "Whistlewood (with lightning)"
         },
         {
          "# Attempts": 16,
          "Probability": 0.38574634653731454,
          "Route": "Cait"
         },
         {
          "# Attempts": 16,
          "Probability": 0.9947842118549856,
          "Route": "Whistlewood (no lightning)"
         },
         {
          "# Attempts": 16,
          "Probability": 0.9992077183748573,
          "Route": "Whistlewood (with lightning)"
         },
         {
          "# Attempts": 17,
          "Probability": 0.4041739561411951,
          "Route": "Cait"
         },
         {
          "# Attempts": 17,
          "Probability": 0.9962446325355896,
          "Route": "Whistlewood (no lightning)"
         },
         {
          "# Attempts": 17,
          "Probability": 0.9994929397599087,
          "Route": "Whistlewood (with lightning)"
         },
         {
          "# Attempts": 18,
          "Probability": 0.42204873745695926,
          "Route": "Cait"
         },
         {
          "# Attempts": 18,
          "Probability": 0.9972961354256245,
          "Route": "Whistlewood (no lightning)"
         },
         {
          "# Attempts": 18,
          "Probability": 0.9996754814463416,
          "Route": "Whistlewood (with lightning)"
         },
         {
          "# Attempts": 19,
          "Probability": 0.4393872753332505,
          "Route": "Cait"
         },
         {
          "# Attempts": 19,
          "Probability": 0.9980532175064496,
          "Route": "Whistlewood (no lightning)"
         },
         {
          "# Attempts": 19,
          "Probability": 0.9997923081256586,
          "Route": "Whistlewood (with lightning)"
         },
         {
          "# Attempts": 20,
          "Probability": 0.456205657073253,
          "Route": "Cait"
         },
         {
          "# Attempts": 20,
          "Probability": 0.9985983166046437,
          "Route": "Whistlewood (no lightning)"
         },
         {
          "# Attempts": 20,
          "Probability": 0.9998670772004216,
          "Route": "Whistlewood (with lightning)"
         },
         {
          "# Attempts": 21,
          "Probability": 0.4725194873610554,
          "Route": "Cait"
         },
         {
          "# Attempts": 21,
          "Probability": 0.9989907879553435,
          "Route": "Whistlewood (no lightning)"
         },
         {
          "# Attempts": 21,
          "Probability": 0.9999149294082698,
          "Route": "Whistlewood (with lightning)"
         },
         {
          "# Attempts": 22,
          "Probability": 0.48834390274022377,
          "Route": "Cait"
         },
         {
          "# Attempts": 22,
          "Probability": 0.9992733673278473,
          "Route": "Whistlewood (no lightning)"
         },
         {
          "# Attempts": 22,
          "Probability": 0.9999455548212927,
          "Route": "Whistlewood (with lightning)"
         },
         {
          "# Attempts": 23,
          "Probability": 0.5036935856580171,
          "Route": "Cait"
         },
         {
          "# Attempts": 23,
          "Probability": 0.99947682447605,
          "Route": "Whistlewood (no lightning)"
         },
         {
          "# Attempts": 23,
          "Probability": 0.9999651550856273,
          "Route": "Whistlewood (with lightning)"
         },
         {
          "# Attempts": 24,
          "Probability": 0.5185827780882766,
          "Route": "Cait"
         },
         {
          "# Attempts": 24,
          "Probability": 0.999623313622756,
          "Route": "Whistlewood (no lightning)"
         },
         {
          "# Attempts": 24,
          "Probability": 0.9999776992548015,
          "Route": "Whistlewood (with lightning)"
         },
         {
          "# Attempts": 25,
          "Probability": 0.5330252947456283,
          "Route": "Cait"
         },
         {
          "# Attempts": 25,
          "Probability": 0.9997287858083843,
          "Route": "Whistlewood (no lightning)"
         },
         {
          "# Attempts": 25,
          "Probability": 0.9999857275230729,
          "Route": "Whistlewood (with lightning)"
         },
         {
          "# Attempts": 26,
          "Probability": 0.5470345359032596,
          "Route": "Cait"
         },
         {
          "# Attempts": 26,
          "Probability": 0.9998047257820367,
          "Route": "Whistlewood (no lightning)"
         },
         {
          "# Attempts": 26,
          "Probability": 0.9999908656147667,
          "Route": "Whistlewood (with lightning)"
         },
         {
          "# Attempts": 27,
          "Probability": 0.5606234998261617,
          "Route": "Cait"
         },
         {
          "# Attempts": 27,
          "Probability": 0.9998594025630665,
          "Route": "Whistlewood (no lightning)"
         },
         {
          "# Attempts": 27,
          "Probability": 0.9999941539934507,
          "Route": "Whistlewood (with lightning)"
         },
         {
          "# Attempts": 28,
          "Probability": 0.5738047948313769,
          "Route": "Cait"
         },
         {
          "# Attempts": 28,
          "Probability": 0.9998987698454078,
          "Route": "Whistlewood (no lightning)"
         },
         {
          "# Attempts": 28,
          "Probability": 0.9999962585558084,
          "Route": "Whistlewood (with lightning)"
         },
         {
          "# Attempts": 29,
          "Probability": 0.5865906509864356,
          "Route": "Cait"
         },
         {
          "# Attempts": 29,
          "Probability": 0.9999271142886936,
          "Route": "Whistlewood (no lightning)"
         },
         {
          "# Attempts": 29,
          "Probability": 0.9999976054757174,
          "Route": "Whistlewood (with lightning)"
         },
         {
          "# Attempts": 30,
          "Probability": 0.5989929314568425,
          "Route": "Cait"
         },
         {
          "# Attempts": 30,
          "Probability": 0.9999475222878594,
          "Route": "Whistlewood (no lightning)"
         },
         {
          "# Attempts": 30,
          "Probability": 0.9999984675044591,
          "Route": "Whistlewood (with lightning)"
         },
         {
          "# Attempts": 31,
          "Probability": 0.6110231435131372,
          "Route": "Cait"
         },
         {
          "# Attempts": 31,
          "Probability": 0.9999622160472588,
          "Route": "Whistlewood (no lightning)"
         },
         {
          "# Attempts": 31,
          "Probability": 0.9999990192028538,
          "Route": "Whistlewood (with lightning)"
         },
         {
          "# Attempts": 32,
          "Probability": 0.6226924492077431,
          "Route": "Cait"
         },
         {
          "# Attempts": 32,
          "Probability": 0.9999727955540263,
          "Route": "Whistlewood (no lightning)"
         },
         {
          "# Attempts": 32,
          "Probability": 0.9999993722898265,
          "Route": "Whistlewood (with lightning)"
         },
         {
          "# Attempts": 33,
          "Probability": 0.6340116757315108,
          "Route": "Cait"
         },
         {
          "# Attempts": 33,
          "Probability": 0.9999804127988989,
          "Route": "Whistlewood (no lightning)"
         },
         {
          "# Attempts": 33,
          "Probability": 0.9999995982654889,
          "Route": "Whistlewood (with lightning)"
         },
         {
          "# Attempts": 34,
          "Probability": 0.6449913254595656,
          "Route": "Cait"
         },
         {
          "# Attempts": 34,
          "Probability": 0.9999858972152073,
          "Route": "Whistlewood (no lightning)"
         },
         {
          "# Attempts": 34,
          "Probability": 0.9999997428899129,
          "Route": "Whistlewood (with lightning)"
         },
         {
          "# Attempts": 35,
          "Probability": 0.6556415856957786,
          "Route": "Cait"
         },
         {
          "# Attempts": 35,
          "Probability": 0.9999898459949492,
          "Route": "Whistlewood (no lightning)"
         },
         {
          "# Attempts": 35,
          "Probability": 0.9999998354495443,
          "Route": "Whistlewood (with lightning)"
         },
         {
          "# Attempts": 36,
          "Probability": 0.6659723381249052,
          "Route": "Cait"
         },
         {
          "# Attempts": 36,
          "Probability": 0.9999926891163634,
          "Route": "Whistlewood (no lightning)"
         },
         {
          "# Attempts": 36,
          "Probability": 0.9999998946877083,
          "Route": "Whistlewood (with lightning)"
         },
         {
          "# Attempts": 37,
          "Probability": 0.6759931679811582,
          "Route": "Cait"
         },
         {
          "# Attempts": 37,
          "Probability": 0.9999947361637817,
          "Route": "Whistlewood (no lightning)"
         },
         {
          "# Attempts": 37,
          "Probability": 0.9999999326001333,
          "Route": "Whistlewood (with lightning)"
         },
         {
          "# Attempts": 38,
          "Probability": 0.6857133729417233,
          "Route": "Cait"
         },
         {
          "# Attempts": 38,
          "Probability": 0.9999962100379228,
          "Route": "Whistlewood (no lightning)"
         },
         {
          "# Attempts": 38,
          "Probability": 0.9999999568640854,
          "Route": "Whistlewood (with lightning)"
         },
         {
          "# Attempts": 39,
          "Probability": 0.6951419717534717,
          "Route": "Cait"
         },
         {
          "# Attempts": 39,
          "Probability": 0.9999972712273044,
          "Route": "Whistlewood (no lightning)"
         },
         {
          "# Attempts": 39,
          "Probability": 0.9999999723930146,
          "Route": "Whistlewood (with lightning)"
         },
         {
          "# Attempts": 40,
          "Probability": 0.7042877126008675,
          "Route": "Cait"
         },
         {
          "# Attempts": 40,
          "Probability": 0.9999980352836592,
          "Route": "Whistlewood (no lightning)"
         },
         {
          "# Attempts": 40,
          "Probability": 0.9999999823315293,
          "Route": "Whistlewood (with lightning)"
         },
         {
          "# Attempts": 41,
          "Probability": 0.7131590812228414,
          "Route": "Cait"
         },
         {
          "# Attempts": 41,
          "Probability": 0.9999985854042346,
          "Route": "Whistlewood (no lightning)"
         },
         {
          "# Attempts": 41,
          "Probability": 0.9999999886921788,
          "Route": "Whistlewood (with lightning)"
         },
         {
          "# Attempts": 42,
          "Probability": 0.7217643087861563,
          "Route": "Cait"
         },
         {
          "# Attempts": 42,
          "Probability": 0.9999989814910489,
          "Route": "Whistlewood (no lightning)"
         },
         {
          "# Attempts": 42,
          "Probability": 0.9999999927629944,
          "Route": "Whistlewood (with lightning)"
         },
         {
          "# Attempts": 43,
          "Probability": 0.7301113795225715,
          "Route": "Cait"
         },
         {
          "# Attempts": 43,
          "Probability": 0.9999992666735552,
          "Route": "Whistlewood (no lightning)"
         },
         {
          "# Attempts": 43,
          "Probability": 0.9999999953683164,
          "Route": "Whistlewood (with lightning)"
         },
         {
          "# Attempts": 44,
          "Probability": 0.7382080381368945,
          "Route": "Cait"
         },
         {
          "# Attempts": 44,
          "Probability": 0.9999994720049598,
          "Route": "Whistlewood (no lightning)"
         },
         {
          "# Attempts": 44,
          "Probability": 0.9999999970357225,
          "Route": "Whistlewood (with lightning)"
         },
         {
          "# Attempts": 45,
          "Probability": 0.7460617969927876,
          "Route": "Cait"
         },
         {
          "# Attempts": 45,
          "Probability": 0.999999619843571,
          "Route": "Whistlewood (no lightning)"
         },
         {
          "# Attempts": 45,
          "Probability": 0.9999999981028624,
          "Route": "Whistlewood (with lightning)"
         },
         {
          "# Attempts": 46,
          "Probability": 0.753679943083004,
          "Route": "Cait"
         },
         {
          "# Attempts": 46,
          "Probability": 0.9999997262873711,
          "Route": "Whistlewood (no lightning)"
         },
         {
          "# Attempts": 46,
          "Probability": 0.9999999987858319,
          "Route": "Whistlewood (with lightning)"
         },
         {
          "# Attempts": 47,
          "Probability": 0.7610695447905139,
          "Route": "Cait"
         },
         {
          "# Attempts": 47,
          "Probability": 0.9999998029269073,
          "Route": "Whistlewood (no lightning)"
         },
         {
          "# Attempts": 47,
          "Probability": 0.9999999992229325,
          "Route": "Whistlewood (with lightning)"
         },
         {
          "# Attempts": 48,
          "Probability": 0.7682374584467985,
          "Route": "Cait"
         },
         {
          "# Attempts": 48,
          "Probability": 0.9999998581073732,
          "Route": "Whistlewood (no lightning)"
         },
         {
          "# Attempts": 48,
          "Probability": 0.9999999995026768,
          "Route": "Whistlewood (with lightning)"
         },
         {
          "# Attempts": 49,
          "Probability": 0.7751903346933946,
          "Route": "Cait"
         },
         {
          "# Attempts": 49,
          "Probability": 0.9999998978373087,
          "Route": "Whistlewood (no lightning)"
         },
         {
          "# Attempts": 49,
          "Probability": 0.9999999996817132,
          "Route": "Whistlewood (with lightning)"
         },
         {
          "# Attempts": 50,
          "Probability": 0.7819346246525927,
          "Route": "Cait"
         },
         {
          "# Attempts": 50,
          "Probability": 0.9999999264428623,
          "Route": "Whistlewood (no lightning)"
         },
         {
          "# Attempts": 50,
          "Probability": 0.9999999997962964,
          "Route": "Whistlewood (with lightning)"
         },
         {
          "# Attempts": 51,
          "Probability": 0.788476585913015,
          "Route": "Cait"
         },
         {
          "# Attempts": 51,
          "Probability": 0.9999999470388609,
          "Route": "Whistlewood (no lightning)"
         },
         {
          "# Attempts": 51,
          "Probability": 0.9999999998696297,
          "Route": "Whistlewood (with lightning)"
         },
         {
          "# Attempts": 52,
          "Probability": 0.7948222883356245,
          "Route": "Cait"
         },
         {
          "# Attempts": 52,
          "Probability": 0.9999999618679798,
          "Route": "Whistlewood (no lightning)"
         },
         {
          "# Attempts": 52,
          "Probability": 0.999999999916563,
          "Route": "Whistlewood (with lightning)"
         },
         {
          "# Attempts": 53,
          "Probability": 0.8009776196855558,
          "Route": "Cait"
         },
         {
          "# Attempts": 53,
          "Probability": 0.9999999725449454,
          "Route": "Whistlewood (no lightning)"
         },
         {
          "# Attempts": 53,
          "Probability": 0.9999999999466003,
          "Route": "Whistlewood (with lightning)"
         },
         {
          "# Attempts": 54,
          "Probability": 0.8069482910949891,
          "Route": "Cait"
         },
         {
          "# Attempts": 54,
          "Probability": 0.9999999802323607,
          "Route": "Whistlewood (no lightning)"
         },
         {
          "# Attempts": 54,
          "Probability": 0.9999999999658242,
          "Route": "Whistlewood (with lightning)"
         },
         {
          "# Attempts": 55,
          "Probability": 0.8127398423621395,
          "Route": "Cait"
         },
         {
          "# Attempts": 55,
          "Probability": 0.9999999857672998,
          "Route": "Whistlewood (no lightning)"
         },
         {
          "# Attempts": 55,
          "Probability": 0.9999999999781275,
          "Route": "Whistlewood (with lightning)"
         },
         {
          "# Attempts": 56,
          "Probability": 0.8183576470912752,
          "Route": "Cait"
         },
         {
          "# Attempts": 56,
          "Probability": 0.9999999897524559,
          "Route": "Whistlewood (no lightning)"
         },
         {
          "# Attempts": 56,
          "Probability": 0.9999999999860016,
          "Route": "Whistlewood (with lightning)"
         },
         {
          "# Attempts": 57,
          "Probability": 0.823806917678537,
          "Route": "Cait"
         },
         {
          "# Attempts": 57,
          "Probability": 0.9999999926217682,
          "Route": "Whistlewood (no lightning)"
         },
         {
          "# Attempts": 57,
          "Probability": 0.999999999991041,
          "Route": "Whistlewood (with lightning)"
         },
         {
          "# Attempts": 58,
          "Probability": 0.8290927101481809,
          "Route": "Cait"
         },
         {
          "# Attempts": 58,
          "Probability": 0.9999999946876731,
          "Route": "Whistlewood (no lightning)"
         },
         {
          "# Attempts": 58,
          "Probability": 0.9999999999942663,
          "Route": "Whistlewood (with lightning)"
         },
         {
          "# Attempts": 59,
          "Probability": 0.8342199288437355,
          "Route": "Cait"
         },
         {
          "# Attempts": 59,
          "Probability": 0.9999999961751246,
          "Route": "Whistlewood (no lightning)"
         },
         {
          "# Attempts": 59,
          "Probability": 0.9999999999963304,
          "Route": "Whistlewood (with lightning)"
         },
         {
          "# Attempts": 60,
          "Probability": 0.8391933309784234,
          "Route": "Cait"
         },
         {
          "# Attempts": 60,
          "Probability": 0.9999999972460897,
          "Route": "Whistlewood (no lightning)"
         },
         {
          "# Attempts": 60,
          "Probability": 0.9999999999976514,
          "Route": "Whistlewood (with lightning)"
         }
        ]
       },
       "encoding": {
        "color": {
         "field": "Route",
         "scale": {
          "scheme": "dark2"
         },
         "sort": [
          "Whistlewood (with lightning)",
          "Whistlewood (no lightning)",
          "Cait"
         ]
        },
        "x": {
         "field": "# Attempts",
         "type": "quantitative"
        },
        "y": {
         "axis": {
          "format": ".0%"
         },
         "field": "Probability",
         "type": "quantitative"
        }
       },
       "height": 600,
       "mark": "line",
       "padding": 5,
       "width": 1200
      },
      "image/png": "[encoded data removed]"
     },
     "metadata": {},
     "output_type": "display_data"
    }
   ],
   "source": [
    "VegaLite({\n",
    "  \"$schema\": \"https://vega.github.io/schema/vega-lite/v4.json\",\n",
    "  \"width\": 1200,\n",
    "  \"height\": 600,\n",
    "  \"padding\": 5,\n",
    "  \"data\": {\n",
    "    \"values\": data\n",
    "  },\n",
    "  \"mark\": \"line\",\n",
    "  \"encoding\": {\n",
    "    \"x\": {\"field\": \"# Attempts\", \"type\": \"quantitative\"},\n",
    "    \"y\": {\"field\": \"Probability\", \"type\": \"quantitative\", \"axis\": {\"format\": \".0%\"}},\n",
    "    \"color\": {\"field\": 'Route', \"sort\": reversed(routes), \"scale\": {\"scheme\": \"dark2\"}},\n",
    "  }\n",
    "})"
   ]
  },
  {
   "cell_type": "markdown",
   "metadata": {},
   "source": [
    "## Expected number of tries\n",
    "\n",
    "A natural question is “how many number of tries will I have to do, on average, until I get a given result”. It turns out to be very simple to calculate. If I write $N$ for the number of tries I do until I get a result of probability $p$ ($N$ is a [random variable](https://en.wikipedia.org/wiki/Random_variable)), then\n",
    "\n",
    "$$\n",
    "E(N) = \\frac{1}{p}\n",
    "$$\n",
    "\n",
    "Here is a [blog post](https://adhocery.wordpress.com/2011/02/11/expected-number-of-trials-until-success-of-a-bernoulli-random-variable/) where the value is worked out from the elementary fact that \n",
    "\n",
    "$$\n",
    "P(N=k) = p(1-p)^{k-1}\n",
    "$$\n",
    "\n",
    "While researching this question I found that the probability distribution associated to $N$ was called a [_geometric distribution_](https://en.wikipedia.org/wiki/Geometric_distribution).\n",
    "\n",
    "So we compute the average number of Bewildering Grace x4 attempts to do to get (a route at least as good as a given route)."
   ]
  },
  {
   "cell_type": "code",
   "execution_count": 19,
   "metadata": {},
   "outputs": [
    {
     "data": {
      "text/markdown": [
       "- **Cait**: 33.33\n",
       "- **Whistlewood (no lightning)**: 3.57\n",
       "- **Whistlewood (with lightning)**: 2.78\n"
      ],
      "text/plain": [
       "<IPython.core.display.Markdown object>"
      ]
     },
     "metadata": {},
     "output_type": "display_data"
    }
   ],
   "source": [
    "route_expectations = { key: 1/p for key,p in route_probabilities.items() }\n",
    "PrintDict((lambda n: '{:.2f}'.format(n)), route_expectations)"
   ]
  }
 ],
 "metadata": {
  "kernelspec": {
   "display_name": "Python3 - python",
   "language": "python",
   "name": "ipython_python"
  },
  "language_info": {
   "codemirror_mode": {
    "name": "ipython",
    "version": 3
   },
   "file_extension": ".py",
   "mimetype": "text/x-python",
   "name": "python",
   "nbconvert_exporter": "python",
   "pygments_lexer": "ipython3",
   "version": "3.9.9"
  }
 },
 "nbformat": 4,
 "nbformat_minor": 4
}
